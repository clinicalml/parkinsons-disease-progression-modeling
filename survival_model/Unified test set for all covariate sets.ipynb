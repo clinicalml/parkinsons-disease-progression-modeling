{
 "cells": [
  {
   "cell_type": "code",
   "execution_count": null,
   "metadata": {},
   "outputs": [],
   "source": [
    "import numpy as np, pandas as pd, pickle, matplotlib.pyplot as plt"
   ]
  },
  {
   "cell_type": "code",
   "execution_count": null,
   "metadata": {},
   "outputs": [],
   "source": [
    "union_of_covariate_sets = dict()\n",
    "union_of_covariate_sets['Motor'] = ['NUPDRS2_DAILYACT', 'NUPDRS3_GAIT', 'NUPDRS3_RIGID_RIGHT', 'NUPDRS3_FACE', \\\n",
    "                                    'NUPDRS3_TREMOR', 'NUPDRS3_RIGID_LEFT', 'NHY']\n",
    "# questions + total should have same availabilities\n",
    "union_of_covariate_sets['Cognitive'] = ['MOCA', 'HVLT_discrim_recog', 'HVLT_immed_recall', 'HVLT_retent', 'BJLO', 'LNS', \\\n",
    "                                        'SEMANTIC_FLUENCY', 'NP1COG']\n",
    "union_of_covariate_sets['Autonomic'] = ['SCOPA-AUT', 'MedHist_1i. gastrointestinal', 'DIASUP', 'DIASTND', 'SYSSTND', \\\n",
    "                                        'SYSSUP', 'NP1URIN', 'NP1LTHD', 'NP1FATG', 'NP1PAIN', 'NP1CNST', 'BMI', \\\n",
    "                                        'DIGESTIVE AID']\n",
    "union_of_covariate_sets['Psychiatric'] = ['STAI', 'QUIP', 'GDSSHORT', 'PhysExam_Psychiatric', 'RAWHITE', 'NP1HALL', \\\n",
    "                                          'NP1DPRS', 'NP1ANXS', 'NP1APAT', 'MedHist_1q. psychiatric', \\\n",
    "                                          'ANTIDEPRESSANT', 'ANXIOLYTIC']\n",
    "union_of_covariate_sets['Sleep'] = ['EPWORTH', 'REMSLEEP', 'NP1SLPN', 'NP1SLPD', 'SLEEP AID']\n",
    "union_of_covariate_sets['All'] = ['AGE', 'MALE', 'UPSIT', 'GENETIC_RISK_SCORE', 'DIS_DUR_BY_CONSENTDT']\n",
    "union_of_covariate_sets['CSF'] = ['PTAU_ABETA_ratio', 'TTAU_ABETA_ratio', 'PTAU_TTAU_ratio', 'ASYNU_log', \\\n",
    "                                  'TTAU_log', 'ABETA_log', 'PTAU_log']\n",
    "union_of_covariate_sets['Imaging'] = ['count_density_ratio_ipsilateral', 'count_density_ratio_contralateral', \\\n",
    "                                      'ipsilateral_caudate', 'ipsilateral_putamen', 'contralateral_caudate', \\\n",
    "                                      'contralateral_putamen', 'asymmetry_index_caudate', 'asymmetry_index_putamen']\n",
    "        "
   ]
  },
  {
   "cell_type": "code",
   "execution_count": null,
   "metadata": {},
   "outputs": [],
   "source": [
    "baseline_covariate_sets = dict()\n",
    "baseline_covariate_sets['Motor'] = ['NUPDRS2_DAILYACT', 'NUPDRS3_GAIT', 'NUPDRS3_RIGID_RIGHT', 'NUPDRS3_FACE', \\\n",
    "                                    'NUPDRS3_TREMOR', 'NUPDRS3_RIGID_LEFT']\n",
    "baseline_covariate_sets['Cognitive'] = ['MOCA', 'HVLT_discrim_recog', 'HVLT_immed_recall', 'HVLT_retent', 'BJLO', 'LNS', \\\n",
    "                                        'SEMANTIC_FLUENCY']\n",
    "baseline_covariate_sets['Autonomic'] = ['SCOPA-AUT']\n",
    "baseline_covariate_sets['Psychiatric'] = ['STAI', 'QUIP', 'GDSSHORT']\n",
    "baseline_covariate_sets['Sleep'] = ['EPWORTH', 'REMSLEEP']\n",
    "baseline_covariate_sets['All'] = ['AGE', 'MALE', 'UPSIT', 'DIS_DUR_BY_CONSENTDT']\n"
   ]
  },
  {
   "cell_type": "code",
   "execution_count": null,
   "metadata": {},
   "outputs": [],
   "source": [
    "baseline_filepath = 'survival_baseline_data_diff_feats_2.csv'\n",
    "baseline_df = pd.read_csv(baseline_filepath)\n",
    "outcome_filepath = '../ppmi_survival_models/survival_outcome_subtotals_gdsfixed_using_CMEDTM/set_3.0_0.5_2019Jul08/' \\\n",
    "    + 'cohorts_time_event_dict.pkl'\n",
    "with open(outcome_filepath, 'r') as f:\n",
    "    outcome_df = pickle.load(f)['PD']"
   ]
  },
  {
   "cell_type": "code",
   "execution_count": null,
   "metadata": {},
   "outputs": [],
   "source": [
    "outcomes = ['Motor', 'Cognitive', 'Autonomic', 'Psychiatric', 'Sleep', 'Hybrid']"
   ]
  },
  {
   "cell_type": "code",
   "execution_count": null,
   "metadata": {},
   "outputs": [],
   "source": [
    "del outcome_df['hybrid_T']\n",
    "del outcome_df['hybrid_E']\n",
    "outcome_df.rename(columns={'hybrid_requiremotor_T': 'Hybrid_T', 'hybrid_requiremotor_E': 'Hybrid_E'}, inplace=True)"
   ]
  },
  {
   "cell_type": "code",
   "execution_count": null,
   "metadata": {},
   "outputs": [],
   "source": [
    "with open('final_human_readable_feat_dict.pkl', 'r') as f:\n",
    "    human_readable_feat_dict = pickle.load(f)"
   ]
  },
  {
   "cell_type": "code",
   "execution_count": null,
   "metadata": {
    "scrolled": false
   },
   "outputs": [],
   "source": [
    "plt.rcParams.update({'font.size': 18})\n",
    "for outcome in outcomes:\n",
    "    print(outcome)\n",
    "    if outcome == 'Hybrid':\n",
    "        selected_baseline_feats = []\n",
    "        plottable_baseline_feats = []\n",
    "        for cov_set in union_of_covariate_sets.values():\n",
    "            selected_baseline_feats += cov_set\n",
    "        for cov_set in baseline_covariate_sets.values():\n",
    "            plottable_baseline_feats += cov_set\n",
    "    else:\n",
    "        selected_baseline_feats = union_of_covariate_sets['All'] + union_of_covariate_sets['CSF'] \\\n",
    "            + union_of_covariate_sets['Imaging'] + union_of_covariate_sets[outcome]\n",
    "        plottable_baseline_feats = baseline_covariate_sets['All'] + baseline_covariate_sets[outcome]\n",
    "    nonzero_outcome_df = outcome_df.loc[outcome_df[outcome + '_T']>0][['PATNO', outcome + '_T', outcome + '_E']]\n",
    "    selected_baseline_df = baseline_df[['PATNO']+selected_baseline_feats]\n",
    "    nonzero_merged_df = nonzero_outcome_df.merge(selected_baseline_df, validate='one_to_one')\n",
    "    nonzero_nomissing_merged_df = nonzero_merged_df.dropna()\n",
    "    nomissing_patnos = nonzero_nomissing_merged_df.PATNO.values\n",
    "    nonzero_hasmissing_merged_df = nonzero_merged_df.loc[~nonzero_merged_df['PATNO'].isin(nomissing_patnos)]\n",
    "    # print # of patients in each, obs vs cens, avg times for both, distrib of obs times (stacked histogram)\n",
    "    # set of histograms for distributions of each covariate selected\n",
    "    print(str(len(nonzero_nomissing_merged_df)) + ' patients included and ' \\\n",
    "          + str(len(nonzero_hasmissing_merged_df)) + ' patients excluded due to missing baseline covariates')\n",
    "    prop_obs_nomissing = nonzero_nomissing_merged_df[outcome+'_E'].sum()/float(len(nonzero_nomissing_merged_df))\n",
    "    avg_obs_time_nomissing \\\n",
    "        = nonzero_nomissing_merged_df.loc[nonzero_nomissing_merged_df[outcome+'_E']==1][outcome+'_T'].mean()\n",
    "    std_obs_time_nomissing \\\n",
    "        = nonzero_nomissing_merged_df.loc[nonzero_nomissing_merged_df[outcome+'_E']==1][outcome+'_T'].std()\n",
    "    avg_cens_time_nomissing \\\n",
    "        = nonzero_nomissing_merged_df.loc[nonzero_nomissing_merged_df[outcome+'_E']==0][outcome+'_T'].mean()\n",
    "    std_cens_time_nomissing \\\n",
    "        = nonzero_nomissing_merged_df.loc[nonzero_nomissing_merged_df[outcome+'_E']==0][outcome+'_T'].std()\n",
    "    print('Among included patients, {0:.4f}'.format(prop_obs_nomissing) \\\n",
    "          + ' observed with {0:.4f}'.format(avg_obs_time_nomissing) + ' ({0:.4f})'.format(std_obs_time_nomissing) \\\n",
    "          + ' years to observation and {0:.4f}'.format(avg_cens_time_nomissing) \\\n",
    "          + ' ({0:.4f})'.format(std_cens_time_nomissing) + ' years to censoring')\n",
    "    prop_obs_hasmissing = nonzero_hasmissing_merged_df[outcome+'_E'].sum()/float(len(nonzero_hasmissing_merged_df))\n",
    "    avg_obs_time_hasmissing \\\n",
    "        = nonzero_hasmissing_merged_df.loc[nonzero_hasmissing_merged_df[outcome+'_E']==1][outcome+'_T'].mean()\n",
    "    std_obs_time_hasmissing \\\n",
    "        = nonzero_hasmissing_merged_df.loc[nonzero_hasmissing_merged_df[outcome+'_E']==1][outcome+'_T'].std()\n",
    "    avg_cens_time_hasmissing \\\n",
    "        = nonzero_hasmissing_merged_df.loc[nonzero_hasmissing_merged_df[outcome+'_E']==0][outcome+'_T'].mean()\n",
    "    std_cens_time_hasmissing \\\n",
    "        = nonzero_hasmissing_merged_df.loc[nonzero_hasmissing_merged_df[outcome+'_E']==0][outcome+'_T'].std()\n",
    "    print('Among excluded patients, {0:.4f}'.format(prop_obs_hasmissing) \\\n",
    "          + ' observed with {0:.4f}'.format(avg_obs_time_hasmissing) + ' ({0:.4f})'.format(std_obs_time_hasmissing) \\\n",
    "          + ' years to observation and {0:.4f}'.format(avg_cens_time_hasmissing) \\\n",
    "          + ' ({0:.4f})'.format(std_cens_time_hasmissing) + ' years to censoring')\n",
    "    plt.hist([nonzero_nomissing_merged_df.loc[nonzero_nomissing_merged_df[outcome+'_E']==1][outcome+'_T'].values, \\\n",
    "              nonzero_hasmissing_merged_df.loc[nonzero_hasmissing_merged_df[outcome+'_E']==1][outcome+'_T'].values], \\\n",
    "             label=['Included', 'Excluded'], color=['red','blue'], stacked=True)\n",
    "    plt.xlabel('Time to observation (years)')\n",
    "    plt.ylabel('# of patients')\n",
    "    plt.title(outcome + ' outcome')\n",
    "    plt.legend()\n",
    "    plt.tight_layout()\n",
    "    plt.savefig('Inc_Exc_' + outcome + '_obs_times.pdf')\n",
    "    plt.show()\n",
    "    nrows = int((len(plottable_baseline_feats)-1)/4)+1\n",
    "    fig, ax = plt.subplots(nrows=nrows, ncols=4, figsize=(16, nrows*4), sharey=True)\n",
    "    for idx in range(len(plottable_baseline_feats)):\n",
    "        feat_ax = ax[int(idx/4), int(idx%4)]\n",
    "        feat_name = plottable_baseline_feats[idx]\n",
    "        feat_ax.hist([nonzero_nomissing_merged_df[feat_name].values, \\\n",
    "                      nonzero_hasmissing_merged_df[feat_name].dropna().values], \\\n",
    "                     label=['Included', 'Excluded'], color=['red','blue'], stacked=True)\n",
    "        feat_ax.set_xlabel(human_readable_feat_dict[feat_name])\n",
    "        if idx%4 == 0:\n",
    "            feat_ax.set_ylabel('# of patients')\n",
    "    for idx in range(len(plottable_baseline_feats), nrows*4):\n",
    "        extra_ax = ax[int(idx/4), int(idx%4)]\n",
    "        extra_ax.set_axis_off()\n",
    "    feat_ax.legend()\n",
    "    fig.suptitle('Distribution of baseline features for ' + outcome + ' models')\n",
    "    fig.tight_layout()\n",
    "    fig.subplots_adjust(top=0.96)\n",
    "    plt.savefig('Inc_Exc_' + outcome + '_baseline_distribs.pdf')\n",
    "    plt.show()"
   ]
  },
  {
   "cell_type": "code",
   "execution_count": null,
   "metadata": {},
   "outputs": [],
   "source": [
    "test_patnos_dict = dict()\n",
    "train_patnos_dict = dict()\n",
    "np.random.seed(2033)\n",
    "for outcome in outcomes:\n",
    "    if outcome == 'Hybrid':\n",
    "        selected_baseline_feats = []\n",
    "        for cov_set in union_of_covariate_sets.values():\n",
    "            selected_baseline_feats += cov_set   \n",
    "    else:\n",
    "        selected_baseline_feats = union_of_covariate_sets['All'] + union_of_covariate_sets['CSF'] \\\n",
    "            + union_of_covariate_sets['Imaging'] + union_of_covariate_sets[outcome]\n",
    "    nonzero_outcome_df = outcome_df.loc[outcome_df[outcome + '_T']>0][['PATNO', outcome + '_T', outcome + '_E']]\n",
    "    selected_baseline_df = baseline_df[['PATNO']+selected_baseline_feats]\n",
    "    nonzero_merged_df = nonzero_outcome_df.merge(selected_baseline_df, validate='one_to_one')\n",
    "    nonzero_nomissing_merged_df = nonzero_merged_df.dropna()\n",
    "    nomissing_patnos = nonzero_nomissing_merged_df.PATNO.values\n",
    "    np.random.shuffle(nomissing_patnos)\n",
    "    test_patnos = nomissing_patnos[int(.8*len(nomissing_patnos)):]\n",
    "    test_patnos_dict[outcome] = test_patnos\n",
    "    all_patnos = set(nonzero_outcome_df.PATNO.values.tolist())\n",
    "    train_patnos_dict[outcome] = np.array(list(all_patnos.difference(test_patnos)))\n",
    "    print(outcome + ': ' + str(len(nomissing_patnos)) + ' patients with no missing features, ' \\\n",
    "          + str(len(test_patnos)) + ' patients in test set')"
   ]
  },
  {
   "cell_type": "code",
   "execution_count": null,
   "metadata": {},
   "outputs": [],
   "source": [
    "test_patnos_dict['hybrid_requiremotor'] = test_patnos_dict['Hybrid']\n",
    "del test_patnos_dict['Hybrid']\n",
    "test_patnos_dict.keys()"
   ]
  },
  {
   "cell_type": "code",
   "execution_count": null,
   "metadata": {},
   "outputs": [],
   "source": [
    "with open('Inc_Exc_Test_Patnos.pkl', 'w') as f:\n",
    "    pickle.dump(test_patnos_dict, f)"
   ]
  },
  {
   "cell_type": "code",
   "execution_count": null,
   "metadata": {},
   "outputs": [],
   "source": [
    "from lifelines.utils import concordance_index\n",
    "def calc_maes(df, outcome):\n",
    "    assert {outcome + '_T', outcome + '_E', outcome + '_T_pred'}.issubset(set(df.columns.values.tolist()))\n",
    "    obs_df = df.loc[df[outcome + '_E']==1]\n",
    "    cens_df = df.loc[df[outcome + '_E']==0]\n",
    "    if len(obs_df) > 0:\n",
    "        obs_mae = ((obs_df[outcome + '_T'] - obs_df[outcome + '_T_pred'])).abs().mean()\n",
    "    else:\n",
    "        obs_mae = 0\n",
    "    if len(cens_df) > 0:\n",
    "        cens_mae = np.mean(np.where(cens_df[outcome + '_T_pred'] < cens_df[outcome + '_T'], \\\n",
    "                           np.abs(cens_df[outcome + '_T_pred'] - cens_df[outcome + '_T']), 0))\n",
    "    else:\n",
    "        cens_mae = 0\n",
    "    mae = (len(obs_df)*obs_mae + len(cens_df)*cens_mae)/len(df)\n",
    "    return obs_mae, cens_mae, mae\n",
    "\n",
    "def get_ci_mae(pred_df, outcome):\n",
    "    ci = concordance_index(pred_df[outcome + '_T'], pred_df[outcome + '_T_pred'], pred_df[outcome + '_E'])\n",
    "    _, _, mae = calc_maes(pred_df, outcome)\n",
    "    return ci, mae"
   ]
  },
  {
   "cell_type": "code",
   "execution_count": null,
   "metadata": {},
   "outputs": [],
   "source": [
    "test_patnos_dict['Hybrid'] = test_patnos_dict['hybrid_requiremotor']"
   ]
  },
  {
   "cell_type": "code",
   "execution_count": null,
   "metadata": {},
   "outputs": [],
   "source": [
    "# Predict median time to outcome - MAE + CI (CI should be bad unless ties make a huge difference)\n",
    "print('Metrics for predicting median observation time')\n",
    "for outcome in outcomes:\n",
    "    median_obs_time = outcome_df.loc[np.logical_and(outcome_df['PATNO'].isin(set(train_patnos_dict[outcome].tolist())), \\\n",
    "                                                    outcome_df[outcome + '_E']==1)][outcome + '_T'].quantile(q=0.5)\n",
    "    test_df = outcome_df.loc[outcome_df['PATNO'].isin(set(test_patnos_dict[outcome].tolist()))]\n",
    "    pred_df = test_df[[outcome + '_E', outcome + '_T']]\n",
    "    pred_df[outcome + '_T_pred'] = median_obs_time\n",
    "    ci, mae = get_ci_mae(pred_df, outcome)\n",
    "    print(outcome + ': CI: {0:.4f}'.format(ci) + ', MAE: {0:.4f}'.format(mae))"
   ]
  },
  {
   "cell_type": "code",
   "execution_count": null,
   "metadata": {},
   "outputs": [],
   "source": []
  }
 ],
 "metadata": {
  "kernelspec": {
   "display_name": "Python 2",
   "language": "python",
   "name": "python2"
  },
  "language_info": {
   "codemirror_mode": {
    "name": "ipython",
    "version": 2
   },
   "file_extension": ".py",
   "mimetype": "text/x-python",
   "name": "python",
   "nbconvert_exporter": "python",
   "pygments_lexer": "ipython2",
   "version": "2.7.15"
  }
 },
 "nbformat": 4,
 "nbformat_minor": 2
}
