{
 "cells": [
  {
   "cell_type": "code",
   "execution_count": null,
   "metadata": {},
   "outputs": [],
   "source": [
    "import numpy as np, pandas as pd"
   ]
  },
  {
   "cell_type": "code",
   "execution_count": null,
   "metadata": {},
   "outputs": [],
   "source": [
    "baseline_datadir = '../../../datasets/ppmi/visit_feature_inputs_asof_2019Jan24_using_CMEDTM/'\n",
    "baseline_filepath = baseline_datadir + 'PD_baseline.csv'\n",
    "screening_filepath = baseline_datadir + 'PD_screening.csv'\n",
    "questions_filepath = baseline_datadir + 'PD_questions_across_time.csv'\n",
    "totals_filepath = baseline_datadir + 'PD_totals_across_time.csv'\n",
    "other_filepath = baseline_datadir + 'PD_other_across_time.csv'\n",
    "baseline_df = pd.read_csv(baseline_filepath)\n",
    "screening_df = pd.read_csv(screening_filepath)\n",
    "questions_df = pd.read_csv(questions_filepath)\n",
    "totals_df = pd.read_csv(totals_filepath)\n",
    "totals_df['STAI'] = np.where(np.logical_and(~pd.isnull(totals_df['STATE_ANXIETY']), \\\n",
    "                                            ~pd.isnull(totals_df['TRAIT_ANXIETY'])), \\\n",
    "                             totals_df[['STATE_ANXIETY','TRAIT_ANXIETY']].sum(axis=1), float('NaN'))\n",
    "sc_totals_df = totals_df.loc[totals_df['EVENT_ID_DUR']==0]\n",
    "bl_totals_df = totals_df.loc[totals_df['EVENT_ID_DUR']==0.125]\n",
    "other_df = pd.read_csv(other_filepath)\n",
    "other_df['BMI'] = np.where(np.logical_and(~pd.isnull(other_df['WGTKG']), ~pd.isnull(other_df['HTCM'])), \\\n",
    "                           other_df['WGTKG']/other_df['HTCM']*10000., float('NaN'))\n",
    "sc_other_df = other_df.loc[other_df['EVENT_ID_DUR']==0]\n",
    "bl_other_df = other_df.loc[other_df['EVENT_ID_DUR']==0.125]\n",
    "treatment_filepath = '../../../datasets/ppmi/treatment_pipeline_output_asof_2019Jan24/PD_treatment_between_visits.csv'\n",
    "treatment_df = pd.read_csv(treatment_filepath)\n",
    "treatment_df = treatment_df.loc[treatment_df['EVENT_ID']=='SC']"
   ]
  },
  {
   "cell_type": "code",
   "execution_count": null,
   "metadata": {},
   "outputs": [],
   "source": [
    "subtotal_maps = {'NUPDRS3_TREMOR': ['NP3RTALL', 'NP3RTALU', 'NP3KTRML', 'NP3PTRML', 'NP3KTRMR', 'NP3PTRMR', 'NP3RTARU', \\\n",
    "                                    'NP3RTALJ', 'NP3RTARL', 'NP2TRMR', 'NP3RTCON'], \\\n",
    "                 'NUPDRS3_RIGID_LEFT': ['NP3RIGLU', 'NP3RIGLL', 'NP3PRSPL', 'NP3FTAPL', 'NP3HMOVL', 'NP3LGAGL', \\\n",
    "                                        'NP3TTAPL'], \\\n",
    "                 'NUPDRS3_RIGID_RIGHT': ['NP3RIGRL', 'NP3RIGRU', 'NP3PRSPR', 'NP3FTAPR', 'NP3HMOVR', 'NP3LGAGR', \\\n",
    "                                         'NP3TTAPR'], \\\n",
    "                 'NUPDRS3_FACE': ['NP3SPCH', 'NP3RIGN', 'NP3BRADY', 'NP3FACXP'], \\\n",
    "                 'NUPDRS3_GAIT': ['NP3FRZGT', 'NP3PSTBL', 'NP3RISNG', 'NP3GAIT', 'NP3POSTR'], \\\n",
    "                 'NUPDRS2_DAILYACT': ['NP2HWRT', 'NP2FREZ', 'NP2HYGN', 'NP2EAT', 'NP2HOBB', 'NP2WALK', 'NP2DRES', \\\n",
    "                                      'NP2RISE', 'NP2TURN', 'NP2SWAL', 'NP2SALV', 'NP2SPCH']\n",
    "                }\n",
    "for subtotal in subtotal_maps:\n",
    "    untreated_components = []\n",
    "    for col in subtotal_maps[subtotal]:\n",
    "        if col.startswith('NP3'):\n",
    "            untreated_components.append(col + '_untreated')\n",
    "        else:\n",
    "            untreated_components.append(col)\n",
    "    questions_df[subtotal] = questions_df[untreated_components].sum(axis=1)\n",
    "sc_questions_df = questions_df.loc[questions_df['EVENT_ID_DUR']==0]\n",
    "bl_questions_df = questions_df.loc[questions_df['EVENT_ID_DUR']==0.125]\n"
   ]
  },
  {
   "cell_type": "code",
   "execution_count": null,
   "metadata": {},
   "outputs": [],
   "source": [
    "cognitive_totals = ['MOCA', 'HVLT_discrim_recog', 'HVLT_immed_recall', 'HVLT_retent', 'BJLO', 'LNS', \\\n",
    "                    'SEMANTIC_FLUENCY']\n",
    "cognitive_questions = ['NP1COG']\n",
    "autonomic_totals = ['SCOPA-AUT']\n",
    "autonomic_other = ['DIASUP', 'DIASTND', 'SYSSTND', 'SYSSUP', 'BMI']\n",
    "autonomic_questions = ['NP1URIN', 'NP1LTHD', 'NP1FATG', 'NP1PAIN', 'NP1CNST']\n",
    "autonomic_screening = ['MedHist_1i. gastrointestinal']\n",
    "standard_other = ['GENETIC_RISK_SCORE', 'AGE']\n",
    "standard_baseline = ['UPSIT', 'MALE']\n",
    "standard_screening = ['DIS_DUR_BY_CONSENTDT']\n",
    "psychiatric_baseline = ['RAWHITE']\n",
    "psychiatric_totals = ['STAI','QUIP','GDSSHORT']\n",
    "psychiatric_screening = ['MedHist_1q. psychiatric', 'PhysExam_Psychiatric']\n",
    "psychiatric_questions = ['NP1HALL', 'NP1DPRS', 'NP1ANXS', 'NP1APAT']\n",
    "sleep_totals = ['EPWORTH', 'REMSLEEP']\n",
    "sleep_questions = ['NP1SLPN', 'NP1SLPD']\n",
    "treatments = ['DIGESTIVE AID', 'SLEEP AID', 'ANTIDEPRESSANT', 'ANXIOLYTIC']"
   ]
  },
  {
   "cell_type": "code",
   "execution_count": null,
   "metadata": {},
   "outputs": [],
   "source": [
    "all_totals = cognitive_totals + autonomic_totals + psychiatric_totals + sleep_totals\n",
    "all_questions = cognitive_questions + autonomic_questions + psychiatric_questions + subtotal_maps.keys() \\\n",
    "    + sleep_questions\n",
    "all_screening = autonomic_screening + standard_screening + psychiatric_screening\n",
    "all_other = autonomic_other + standard_other\n",
    "all_baseline = standard_baseline + psychiatric_baseline"
   ]
  },
  {
   "cell_type": "code",
   "execution_count": null,
   "metadata": {},
   "outputs": [],
   "source": [
    "print(sc_totals_df.columns.values)\n",
    "print(bl_totals_df.columns.values)"
   ]
  },
  {
   "cell_type": "code",
   "execution_count": null,
   "metadata": {},
   "outputs": [],
   "source": [
    "selected_df = baseline_df[['PATNO']+all_baseline].merge(screening_df[['PATNO']+all_screening], how='outer', \\\n",
    "                                                        validate='one_to_one')\n",
    "selected_df = selected_df.merge(sc_totals_df[['PATNO']+all_totals], how='outer', validate='one_to_one')\n",
    "selected_df = selected_df.merge(bl_totals_df[['PATNO']+all_totals], on=['PATNO'], how='outer', \\\n",
    "                                suffixes=['_sc', '_bl'], validate='one_to_one')\n",
    "selected_df = selected_df.merge(sc_questions_df[['PATNO']+all_questions], on=['PATNO'], how='outer', \\\n",
    "                                validate='one_to_one')\n",
    "selected_df = selected_df.merge(bl_questions_df[['PATNO']+all_questions], on=['PATNO'], how='outer', \\\n",
    "                                suffixes=['_sc', '_bl'], validate='one_to_one')\n",
    "selected_df = selected_df.merge(sc_other_df[['PATNO']+all_other], on=['PATNO'], how='outer', validate='one_to_one')\n",
    "selected_df = selected_df.merge(bl_other_df[['PATNO']+all_other], on=['PATNO'], how='outer', \\\n",
    "                                suffixes=['_sc', '_bl'], validate='one_to_one')\n",
    "for total_col in all_totals + all_questions + all_other:\n",
    "    bl_col_df = selected_df[[total_col + '_bl']]\n",
    "    del selected_df[total_col + '_bl']\n",
    "    selected_df.rename(columns={total_col + '_sc': total_col}, inplace=True)\n",
    "    bl_col_df.rename(columns={total_col + '_bl': total_col}, inplace=True)\n",
    "    selected_df.update(bl_col_df, overwrite=False)\n",
    "selected_df = selected_df.merge(treatment_df[['PATNO'] + treatments], how='left', validate='one_to_one')\n",
    "selected_df[treatments].fillna(0, inplace=True)"
   ]
  },
  {
   "cell_type": "code",
   "execution_count": null,
   "metadata": {},
   "outputs": [],
   "source": [
    "with pd.option_context('display.max_columns', None):\n",
    "    display(selected_df.head())"
   ]
  },
  {
   "cell_type": "code",
   "execution_count": null,
   "metadata": {},
   "outputs": [],
   "source": [
    "print(len(selected_df))"
   ]
  },
  {
   "cell_type": "code",
   "execution_count": null,
   "metadata": {},
   "outputs": [],
   "source": [
    "selected_df.to_csv('survival_baseline_data_diff_feats.csv', index=False)"
   ]
  }
 ],
 "metadata": {
  "kernelspec": {
   "display_name": "Python 2",
   "language": "python",
   "name": "python2"
  },
  "language_info": {
   "codemirror_mode": {
    "name": "ipython",
    "version": 2
   },
   "file_extension": ".py",
   "mimetype": "text/x-python",
   "name": "python",
   "nbconvert_exporter": "python",
   "pygments_lexer": "ipython2",
   "version": "2.7.15"
  }
 },
 "nbformat": 4,
 "nbformat_minor": 2
}
