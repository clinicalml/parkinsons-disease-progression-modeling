{
 "cells": [
  {
   "cell_type": "code",
   "execution_count": 1,
   "metadata": {},
   "outputs": [],
   "source": [
    "import numpy as np, pandas as pd, pickle\n",
    "from lifelines.statistics import logrank_test"
   ]
  },
  {
   "cell_type": "code",
   "execution_count": 2,
   "metadata": {},
   "outputs": [],
   "source": [
    "outcome_dir = '../ppmi_survival_models/survival_outcome_subtotals_using_CMEDTM/set_3.0_0.5/'\n",
    "with open(outcome_dir + 'cohorts_time_event_dict.pkl', 'r') as f:\n",
    "    outcome_df = pickle.load(f)['PD']\n",
    "baseline_df = pd.read_csv('../gather_PD_data/selected_baseline_data_using_CMEDTM.csv')\n",
    "del baseline_df['ENROLL_CAT']\n",
    "longitudinal_df = pd.read_csv('../gather_PD_data/selected_longitudinal_data_using_CMEDTM.csv')\n",
    "screening_longitudinal_df = longitudinal_df.loc[longitudinal_df['EVENT_ID_DUR']==0]\n",
    "baseline_longitudinal_df = longitudinal_df.loc[longitudinal_df['EVENT_ID_DUR']==0.125]\n",
    "screening_longitudinal_cols = ['NUPDRS1', 'MOCA', 'NUPDRS2_DAILYACT', 'NUPDRS3_GAIT', 'NUPDRS3_RIGID_RIGHT', \\\n",
    "                               'NUPDRS3_FACE', 'NUPDRS3_TREMOR', 'NUPDRS3_RIGID_LEFT']\n",
    "baseline_longitudinal_cols = ['SCOPA-AUT', 'HVLT_discrim_recog', 'STAI', 'HVLT_immed_recall', 'QUIP', 'EPWORTH', \\\n",
    "                              'GDSSHORT', 'HVLT_retent', 'BJLO', 'LNS', 'SEMANTIC_FLUENCY', 'REMSLEEP']\n",
    "baseline_df = baseline_df.merge(screening_longitudinal_df[['PATNO']+screening_longitudinal_cols], on=['PATNO'], \\\n",
    "                                validate='one_to_one')\n",
    "baseline_df = baseline_df.merge(baseline_longitudinal_df[['PATNO']+baseline_longitudinal_cols], on=['PATNO'], \\\n",
    "                                validate='one_to_one')\n",
    "baseline_df = baseline_df.dropna()\n",
    "outcome_df = outcome_df.loc[outcome_df['PATNO'].isin(baseline_df.PATNO.unique())]"
   ]
  },
  {
   "cell_type": "code",
   "execution_count": 3,
   "metadata": {},
   "outputs": [],
   "source": [
    "patnos = baseline_df.PATNO.values\n",
    "np.random.seed(29033)\n",
    "np.random.shuffle(patnos)\n",
    "train_test_split_idx = int(0.8*len(patnos))\n",
    "train_patnos = patnos[:train_test_split_idx]\n",
    "baseline_df = baseline_df.loc[baseline_df['PATNO'].isin(set(train_patnos.tolist()))]\n",
    "outcome_df = outcome_df.loc[outcome_df['PATNO'].isin(set(train_patnos.tolist()))]"
   ]
  },
  {
   "cell_type": "code",
   "execution_count": 4,
   "metadata": {},
   "outputs": [
    {
     "data": {
      "text/plain": [
       "array(['PATNO', 'MALE', 'RAWHITE', 'FAMHIST', 'EDUCYRS', 'RIGHT_HANDED',\n",
       "       'UPSIT', 'DIS_DUR_BY_CONSENTDT', 'Genetic PCA component 0',\n",
       "       'Genetic PCA component 1', 'Genetic PCA component 2',\n",
       "       'Genetic PCA component 3', 'Genetic PCA component 4',\n",
       "       'Genetic PCA component 5', 'Genetic PCA component 6',\n",
       "       'Genetic PCA component 7', 'Genetic PCA component 8',\n",
       "       'Genetic PCA component 9', 'WGTKG', 'HTCM', 'DVT_SDM',\n",
       "       'PTAU_ABETA_ratio', 'TTAU_ABETA_ratio', 'PTAU_TTAU_ratio',\n",
       "       'PTAU_log', 'TTAU_log', 'ABETA_log', 'ASYNU_log', 'CSF Hemoglobin',\n",
       "       'AGE', 'RIGHT_DOMSIDE', 'SYSSTND', 'SYSSUP', 'HRSTND', 'HRSUP',\n",
       "       'DIASUP', 'DIASTND', 'TEMPC', 'TD_PIGD_untreated:tremor',\n",
       "       'TD_PIGD_untreated:posture', 'ipsilateral_putamen',\n",
       "       'ipsilateral_caudate', 'count_density_ratio_ipsilateral',\n",
       "       'count_density_ratio_contralateral', 'contralateral_putamen',\n",
       "       'contralateral_caudate', 'asymmetry_index_caudate',\n",
       "       'asymmetry_index_putamen', 'NUPDRS1', 'MOCA', 'NUPDRS2_DAILYACT',\n",
       "       'NUPDRS3_GAIT', 'NUPDRS3_RIGID_RIGHT', 'NUPDRS3_FACE',\n",
       "       'NUPDRS3_TREMOR', 'NUPDRS3_RIGID_LEFT', 'SCOPA-AUT',\n",
       "       'HVLT_discrim_recog', 'STAI', 'HVLT_immed_recall', 'QUIP',\n",
       "       'EPWORTH', 'GDSSHORT', 'HVLT_retent', 'BJLO', 'LNS',\n",
       "       'SEMANTIC_FLUENCY', 'REMSLEEP'], dtype=object)"
      ]
     },
     "execution_count": 4,
     "metadata": {},
     "output_type": "execute_result"
    }
   ],
   "source": [
    "baseline_df.columns.values"
   ]
  },
  {
   "cell_type": "code",
   "execution_count": 5,
   "metadata": {},
   "outputs": [
    {
     "data": {
      "text/plain": [
       "68"
      ]
     },
     "execution_count": 5,
     "metadata": {},
     "output_type": "execute_result"
    }
   ],
   "source": [
    "len(baseline_df.columns)"
   ]
  },
  {
   "cell_type": "code",
   "execution_count": 6,
   "metadata": {},
   "outputs": [
    {
     "data": {
      "text/plain": [
       "array(['PATNO', 'SCOPA-AUT_T', 'SCOPA-AUT_E', 'Autonomic_T',\n",
       "       'Autonomic_E', 'EPWORTH_T', 'EPWORTH_E', 'REMSLEEP_T',\n",
       "       'REMSLEEP_E', 'Sleep_T', 'Sleep_E', 'HVLT_discrim_recog_T',\n",
       "       'HVLT_discrim_recog_E', 'HVLT_immed_recall_T',\n",
       "       'HVLT_immed_recall_E', 'LNS_T', 'LNS_E', 'HVLT_retent_T',\n",
       "       'HVLT_retent_E', 'BJLO_T', 'BJLO_E', 'MOCA_T', 'MOCA_E',\n",
       "       'SEMANTIC_FLUENCY_T', 'SEMANTIC_FLUENCY_E', 'Cognitive_T',\n",
       "       'Cognitive_E', 'QUIP_T', 'QUIP_E', 'STAI_T', 'STAI_E',\n",
       "       'Psychiatric_T', 'Psychiatric_E', 'NUPDRS2_DAILYACT_T',\n",
       "       'NUPDRS2_DAILYACT_E', 'NUPDRS3_GAIT_T', 'NUPDRS3_GAIT_E',\n",
       "       'NUPDRS3_RIGID_RIGHT_T', 'NUPDRS3_RIGID_RIGHT_E', 'NUPDRS3_FACE_T',\n",
       "       'NUPDRS3_FACE_E', 'NUPDRS3_TREMOR_T', 'NUPDRS3_TREMOR_E',\n",
       "       'NUPDRS3_RIGID_LEFT_T', 'NUPDRS3_RIGID_LEFT_E', 'Motor_T',\n",
       "       'Motor_E', 'hybrid_T', 'hybrid_E', 'hybrid_requiremotor_E',\n",
       "       'hybrid_requiremotor_T'], dtype=object)"
      ]
     },
     "execution_count": 6,
     "metadata": {},
     "output_type": "execute_result"
    }
   ],
   "source": [
    "outcome_df.columns.values"
   ]
  },
  {
   "cell_type": "code",
   "execution_count": 7,
   "metadata": {},
   "outputs": [],
   "source": [
    "train_df = baseline_df.merge(outcome_df, validate='one_to_one')"
   ]
  },
  {
   "cell_type": "code",
   "execution_count": 8,
   "metadata": {},
   "outputs": [],
   "source": [
    "def get_stratifying_feats(pval_thresh=0.05):\n",
    "    outcomes = ['hybrid_requiremotor', 'Motor', 'Cognitive', 'Autonomic', 'Sleep', 'Psychiatric']\n",
    "    outcome_stratifying_feats = dict()\n",
    "    for outcome in outcomes:\n",
    "        outcome_stratifying_feats[outcome] = set()\n",
    "    for feat in baseline_df.columns.values[1:]:\n",
    "        if train_df[feat].nunique() == 2:\n",
    "            first_strata_df = train_df.loc[train_df[feat]==train_df[feat].min()]\n",
    "            second_strata_df = train_df.loc[train_df[feat]==train_df[feat].max()]\n",
    "            if len(first_strata_df) < 10 or len(second_strata_df) < 10:\n",
    "                continue\n",
    "            for outcome in outcomes:\n",
    "                results = logrank_test(first_strata_df[outcome + '_T'], second_strata_df[outcome + '_T'], \\\n",
    "                                       first_strata_df[outcome + '_E'], second_strata_df[outcome + '_E'])\n",
    "                if results.p_value <= pval_thresh:\n",
    "                    outcome_stratifying_feats[outcome].add(feat)\n",
    "        else:\n",
    "            for percentile in [0.33, 0.5, 0.67]:\n",
    "                first_strata_df = train_df.loc[train_df[feat]<=train_df[feat].quantile(percentile)]\n",
    "                second_strata_df = train_df.loc[train_df[feat]>train_df[feat].quantile(percentile)]\n",
    "                if len(first_strata_df) < 10 or len(second_strata_df) < 10:\n",
    "                    continue\n",
    "                for outcome in outcomes:\n",
    "                    results = logrank_test(first_strata_df[outcome + '_T'], second_strata_df[outcome + '_T'], \\\n",
    "                                           first_strata_df[outcome + '_E'], second_strata_df[outcome + '_E'])\n",
    "                    if results.p_value <= pval_thresh:\n",
    "                        outcome_stratifying_feats[outcome].add(feat)\n",
    "    return outcome_stratifying_feats"
   ]
  },
  {
   "cell_type": "code",
   "execution_count": 9,
   "metadata": {},
   "outputs": [
    {
     "data": {
      "text/plain": [
       "{'Autonomic': {'ABETA_log',\n",
       "  'AGE',\n",
       "  'ASYNU_log',\n",
       "  'Genetic PCA component 0',\n",
       "  'Genetic PCA component 1',\n",
       "  'Genetic PCA component 3',\n",
       "  'Genetic PCA component 9',\n",
       "  'LNS',\n",
       "  'MOCA',\n",
       "  'PTAU_ABETA_ratio',\n",
       "  'REMSLEEP',\n",
       "  'SEMANTIC_FLUENCY',\n",
       "  'TTAU_ABETA_ratio'},\n",
       " 'Cognitive': {'Genetic PCA component 3',\n",
       "  'Genetic PCA component 6',\n",
       "  'HTCM',\n",
       "  'MOCA',\n",
       "  'REMSLEEP',\n",
       "  'asymmetry_index_putamen',\n",
       "  'count_density_ratio_ipsilateral'},\n",
       " 'Motor': {'ABETA_log',\n",
       "  'AGE',\n",
       "  'LNS',\n",
       "  'NUPDRS2_DAILYACT',\n",
       "  'PTAU_TTAU_ratio',\n",
       "  'asymmetry_index_putamen'},\n",
       " 'Psychiatric': {'BJLO', 'Genetic PCA component 8', 'RAWHITE'},\n",
       " 'Sleep': {'AGE',\n",
       "  'ASYNU_log',\n",
       "  'DIASUP',\n",
       "  'HVLT_immed_recall',\n",
       "  'HVLT_retent',\n",
       "  'SCOPA-AUT'},\n",
       " 'hybrid_requiremotor': {'ABETA_log',\n",
       "  'AGE',\n",
       "  'LNS',\n",
       "  'STAI',\n",
       "  'TTAU_ABETA_ratio',\n",
       "  'asymmetry_index_putamen',\n",
       "  'ipsilateral_putamen'}}"
      ]
     },
     "execution_count": 9,
     "metadata": {},
     "output_type": "execute_result"
    }
   ],
   "source": [
    "pval05_stratifying_feats = get_stratifying_feats()\n",
    "pval05_stratifying_feats"
   ]
  },
  {
   "cell_type": "code",
   "execution_count": 11,
   "metadata": {},
   "outputs": [],
   "source": [
    "with open('stratifying_feats_pval05_using_CMEDTM.pkl', 'w') as f:\n",
    "    pickle.dump(pval05_stratifying_feats, f)"
   ]
  },
  {
   "cell_type": "code",
   "execution_count": null,
   "metadata": {},
   "outputs": [],
   "source": []
  }
 ],
 "metadata": {
  "kernelspec": {
   "display_name": "Python 2",
   "language": "python",
   "name": "python2"
  },
  "language_info": {
   "codemirror_mode": {
    "name": "ipython",
    "version": 2
   },
   "file_extension": ".py",
   "mimetype": "text/x-python",
   "name": "python",
   "nbconvert_exporter": "python",
   "pygments_lexer": "ipython2",
   "version": "2.7.15"
  }
 },
 "nbformat": 4,
 "nbformat_minor": 2
}
