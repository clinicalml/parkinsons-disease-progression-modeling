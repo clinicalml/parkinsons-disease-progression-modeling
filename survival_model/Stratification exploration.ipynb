{
 "cells": [
  {
   "cell_type": "code",
   "execution_count": null,
   "metadata": {},
   "outputs": [],
   "source": [
    "import numpy as np, pandas as pd, pickle\n",
    "from lifelines.statistics import logrank_test"
   ]
  },
  {
   "cell_type": "code",
   "execution_count": null,
   "metadata": {},
   "outputs": [],
   "source": [
    "outcome_dir = '../ppmi_survival_models/survival_outcome_subtotals_using_CMEDTM/set_3.0_0.5/'\n",
    "with open(outcome_dir + 'cohorts_time_event_dict.pkl', 'r') as f:\n",
    "    outcome_df = pickle.load(f)['PD']\n",
    "baseline_df = pd.read_csv('../gather_PD_data/selected_baseline_data_using_CMEDTM.csv')\n",
    "del baseline_df['ENROLL_CAT']\n",
    "longitudinal_df = pd.read_csv('../gather_PD_data/selected_longitudinal_data_using_CMEDTM.csv')\n",
    "screening_longitudinal_df = longitudinal_df.loc[longitudinal_df['EVENT_ID_DUR']==0]\n",
    "baseline_longitudinal_df = longitudinal_df.loc[longitudinal_df['EVENT_ID_DUR']==0.125]\n",
    "screening_longitudinal_cols = ['NUPDRS1', 'MOCA', 'NUPDRS2_DAILYACT', 'NUPDRS3_GAIT', 'NUPDRS3_RIGID_RIGHT', \\\n",
    "                               'NUPDRS3_FACE', 'NUPDRS3_TREMOR', 'NUPDRS3_RIGID_LEFT']\n",
    "baseline_longitudinal_cols = ['SCOPA-AUT', 'HVLT_discrim_recog', 'STAI', 'HVLT_immed_recall', 'QUIP', 'EPWORTH', \\\n",
    "                              'GDSSHORT', 'HVLT_retent', 'BJLO', 'LNS', 'SEMANTIC_FLUENCY', 'REMSLEEP']\n",
    "baseline_df = baseline_df.merge(screening_longitudinal_df[['PATNO']+screening_longitudinal_cols], on=['PATNO'], \\\n",
    "                                validate='one_to_one')\n",
    "baseline_df = baseline_df.merge(baseline_longitudinal_df[['PATNO']+baseline_longitudinal_cols], on=['PATNO'], \\\n",
    "                                validate='one_to_one')\n",
    "baseline_df = baseline_df.dropna()\n",
    "outcome_df = outcome_df.loc[outcome_df['PATNO'].isin(baseline_df.PATNO.unique())]"
   ]
  },
  {
   "cell_type": "code",
   "execution_count": null,
   "metadata": {},
   "outputs": [],
   "source": [
    "patnos = baseline_df.PATNO.values\n",
    "np.random.seed(29033)\n",
    "np.random.shuffle(patnos)\n",
    "train_test_split_idx = int(0.8*len(patnos))\n",
    "train_patnos = patnos[:train_test_split_idx]\n",
    "baseline_df = baseline_df.loc[baseline_df['PATNO'].isin(set(train_patnos.tolist()))]\n",
    "outcome_df = outcome_df.loc[outcome_df['PATNO'].isin(set(train_patnos.tolist()))]"
   ]
  },
  {
   "cell_type": "code",
   "execution_count": null,
   "metadata": {},
   "outputs": [],
   "source": [
    "baseline_df.columns.values"
   ]
  },
  {
   "cell_type": "code",
   "execution_count": null,
   "metadata": {},
   "outputs": [],
   "source": [
    "len(baseline_df.columns)"
   ]
  },
  {
   "cell_type": "code",
   "execution_count": null,
   "metadata": {},
   "outputs": [],
   "source": [
    "outcome_df.columns.values"
   ]
  },
  {
   "cell_type": "code",
   "execution_count": null,
   "metadata": {},
   "outputs": [],
   "source": [
    "train_df = baseline_df.merge(outcome_df, validate='one_to_one')"
   ]
  },
  {
   "cell_type": "code",
   "execution_count": null,
   "metadata": {},
   "outputs": [],
   "source": [
    "def get_stratifying_feats(pval_thresh=0.05):\n",
    "    outcomes = ['hybrid_requiremotor', 'Motor', 'Cognitive', 'Autonomic', 'Sleep', 'Psychiatric']\n",
    "    outcome_stratifying_feats = dict()\n",
    "    for outcome in outcomes:\n",
    "        outcome_stratifying_feats[outcome] = set()\n",
    "    for feat in baseline_df.columns.values[1:]:\n",
    "        if train_df[feat].nunique() == 2:\n",
    "            first_strata_df = train_df.loc[train_df[feat]==train_df[feat].min()]\n",
    "            second_strata_df = train_df.loc[train_df[feat]==train_df[feat].max()]\n",
    "            if len(first_strata_df) < 10 or len(second_strata_df) < 10:\n",
    "                continue\n",
    "            for outcome in outcomes:\n",
    "                results = logrank_test(first_strata_df[outcome + '_T'], second_strata_df[outcome + '_T'], \\\n",
    "                                       first_strata_df[outcome + '_E'], second_strata_df[outcome + '_E'])\n",
    "                if results.p_value <= pval_thresh:\n",
    "                    outcome_stratifying_feats[outcome].add(feat)\n",
    "        else:\n",
    "            for percentile in [0.33, 0.5, 0.67]:\n",
    "                first_strata_df = train_df.loc[train_df[feat]<=train_df[feat].quantile(percentile)]\n",
    "                second_strata_df = train_df.loc[train_df[feat]>train_df[feat].quantile(percentile)]\n",
    "                if len(first_strata_df) < 10 or len(second_strata_df) < 10:\n",
    "                    continue\n",
    "                for outcome in outcomes:\n",
    "                    results = logrank_test(first_strata_df[outcome + '_T'], second_strata_df[outcome + '_T'], \\\n",
    "                                           first_strata_df[outcome + '_E'], second_strata_df[outcome + '_E'])\n",
    "                    if results.p_value <= pval_thresh:\n",
    "                        outcome_stratifying_feats[outcome].add(feat)\n",
    "    return outcome_stratifying_feats"
   ]
  },
  {
   "cell_type": "code",
   "execution_count": null,
   "metadata": {},
   "outputs": [],
   "source": [
    "pval05_stratifying_feats = get_stratifying_feats()\n",
    "pval05_stratifying_feats"
   ]
  },
  {
   "cell_type": "code",
   "execution_count": null,
   "metadata": {},
   "outputs": [],
   "source": [
    "with open('stratifying_feats_pval05_using_CMEDTM.pkl', 'w') as f:\n",
    "    pickle.dump(pval05_stratifying_feats, f)"
   ]
  },
  {
   "cell_type": "code",
   "execution_count": null,
   "metadata": {},
   "outputs": [],
   "source": []
  }
 ],
 "metadata": {
  "kernelspec": {
   "display_name": "Python 2",
   "language": "python",
   "name": "python2"
  },
  "language_info": {
   "codemirror_mode": {
    "name": "ipython",
    "version": 2
   },
   "file_extension": ".py",
   "mimetype": "text/x-python",
   "name": "python",
   "nbconvert_exporter": "python",
   "pygments_lexer": "ipython2",
   "version": "2.7.15"
  }
 },
 "nbformat": 4,
 "nbformat_minor": 2
}
