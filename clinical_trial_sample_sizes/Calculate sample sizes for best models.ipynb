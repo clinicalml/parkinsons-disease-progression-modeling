{
 "cells": [
  {
   "cell_type": "code",
   "execution_count": null,
   "metadata": {},
   "outputs": [],
   "source": [
    "import numpy as np, pandas as pd, pickle"
   ]
  },
  {
   "cell_type": "code",
   "execution_count": null,
   "metadata": {},
   "outputs": [],
   "source": [
    "outcome_best_auroc_2yr = {'Autonomic': 'decision_tree_2_years_standard_2019Jul30_testset_fixed', \\\n",
    "                          'Cognitive': 'logistic_regression_2_years_standard_2019Jul30_testset_fixed', \\\n",
    "                          'Psychiatric': 'survival_model_2_years_baseline_2019Jul23_metricsfixed', \\\n",
    "                          'Motor': 'logistic_regression_2_years_questions_plus_treatment_imaging_CSF_expanded_genetic_2019Jul30_testset_fixed', \\\n",
    "                          'Sleep': 'survival_model_2_years_standard_2019Jul23_metricsfixed', \\\n",
    "                          'hybrid_requiremotor': 'random_forest_2_years_baseline_2019Jul30_testset_fixed', \\\n",
    "                          'NUPDRS23_45': 'logistic_regression_2_years_questions_plus_treatment_imaging_CSF_expanded_2019Jul30_testset_fixed', \\\n",
    "                          'MOCA_25': 'logistic_regression_2_years_baseline_2019Jul30_testset_fixed', \\\n",
    "                          'MSEADLG_79': 'logistic_regression_2_years_standard_plus_treatment_imaging_CSF_2019Jul30_testset_fixed'\n",
    "                         }"
   ]
  },
  {
   "cell_type": "code",
   "execution_count": null,
   "metadata": {},
   "outputs": [],
   "source": [
    "outcome_best_auroc_2yr_survival = {'Psychiatric': 'weibull', \\\n",
    "                                   'Sleep': 'weibull'\n",
    "                                  }"
   ]
  },
  {
   "cell_type": "code",
   "execution_count": null,
   "metadata": {},
   "outputs": [],
   "source": [
    "outcome_best_prec_2yr = {'Autonomic': 'survival_model_2_years_baseline_2019Jul23_metricsfixed', \\\n",
    "                         'Cognitive': 'survival_model_2_years_questions_plus_treatment_imaging_CSF_expanded_2019Jul23_metricsfixed', \\\n",
    "                         'Psychiatric': 'survival_model_2_years_baseline_2019Jul23_metricsfixed', \\\n",
    "                         'Motor': 'survival_model_2_years_baseline_mdstotal_2019Jul23_metricsfixed', \\\n",
    "                         'Sleep': 'survival_model_2_years_baseline_2019Jul23_metricsfixed', \\\n",
    "                         'hybrid_requiremotor': 'survival_model_2_years_baseline_2019Jul23_metricsfixed', \\\n",
    "                         'NUPDRS23_45': 'random_forest_2_years_standard_plus_treatment_imaging_CSF_expanded_2019Jul30_testset_fixed', \\\n",
    "                         'MOCA_25': 'logistic_regression_2_years_baseline_2019Jul30_testset_fixed', \\\n",
    "                         'MSEADLG_79': 'survival_model_2_years_standard_plus_treatment_imaging_CSF_2019Jul23_metricsfixed'\n",
    "                        }"
   ]
  },
  {
   "cell_type": "code",
   "execution_count": null,
   "metadata": {},
   "outputs": [],
   "source": [
    "outcome_best_prec_2yr_survival = {'Autonomic': 'cox', \\\n",
    "                                  'Cognitive': 'cox', \\\n",
    "                                  'Psychiatric': 'cox', \\\n",
    "                                  'Motor': 'cox', \\\n",
    "                                  'Sleep': 'cox', \\\n",
    "                                  'hybrid_requiremotor': 'cox', \\\n",
    "                                  'MSEADLG_79': 'cox' \n",
    "                                 }"
   ]
  },
  {
   "cell_type": "code",
   "execution_count": null,
   "metadata": {},
   "outputs": [],
   "source": [
    "outcome_best_auroc_3yr = {'Autonomic': 'logistic_regression_3_years_baseline_2019Jul30_testset_fixed', \\\n",
    "                          'Cognitive': 'logistic_regression_3_years_baseline_2019Jul30_testset_fixed', \\\n",
    "                          'Psychiatric': 'logistic_regression_3_years_baseline_2019Jul30_testset_fixed', \\\n",
    "                          'Motor': 'survival_model_3_years_standard_plus_treatment_imaging_CSF_expanded_2019Jul23_metricsfixed', \\\n",
    "                          'Sleep': 'logistic_regression_3_years_standard_2019Jul30_testset_fixed', \\\n",
    "                          'hybrid_requiremotor': 'logistic_regression_3_years_standard_plus_treatment_imaging_CSF_2019Jul30_testset_fixed', \\\n",
    "                          'NUPDRS23_45': 'logistic_regression_3_years_questions_plus_treatment_imaging_CSF_expanded_2019Jul30_testset_fixed', \\\n",
    "                          'MOCA_25': 'survival_model_3_years_standard_plus_treatment_imaging_CSF_expanded_2019Jul23_metricsfixed', \\\n",
    "                          'MSEADLG_79': 'logistic_regression_3_years_standard_plus_treatment_imaging_CSF_expanded_2019Jul30_testset_fixed'\n",
    "                         }"
   ]
  },
  {
   "cell_type": "code",
   "execution_count": null,
   "metadata": {},
   "outputs": [],
   "source": [
    "outcome_best_auroc_3yr_survival = {'Motor': 'weibull', \\\n",
    "                                   'MOCA_25': 'weibull'\n",
    "                                  }"
   ]
  },
  {
   "cell_type": "code",
   "execution_count": null,
   "metadata": {},
   "outputs": [],
   "source": [
    "outcome_best_auroc_3yr_2 = {'Autonomic': 'survival_model_3_years_baseline_2019Jul23_metricsfixed', \\\n",
    "                           }"
   ]
  },
  {
   "cell_type": "code",
   "execution_count": null,
   "metadata": {},
   "outputs": [],
   "source": [
    "outcome_best_auroc_3yr_2_survival = {'Autonomic': 'weibull'}"
   ]
  },
  {
   "cell_type": "code",
   "execution_count": null,
   "metadata": {},
   "outputs": [],
   "source": [
    "outcome_best_prec_3yr = {'Autonomic': 'survival_model_3_years_baseline_2019Jul23_metricsfixed', \\\n",
    "                         'Cognitive': 'survival_model_3_years_standard_plus_treatment_imaging_CSF_expanded_2019Jul23_metricsfixed', \\\n",
    "                         'Psychiatric': 'survival_model_3_years_standard_plus_treatment_2019Jul23_metricsfixed', \\\n",
    "                         'Motor': 'survival_model_3_years_standard_plus_treatment_imaging_CSF_expanded_2019Jul23_metricsfixed', \\\n",
    "                         'Sleep': 'survival_model_3_years_questions_plus_treatment_imaging_CSF_expanded_genetic_2019Jul23_metricsfixed', \\\n",
    "                         'hybrid_requiremotor': 'random_forest_3_years_standard_plus_treatment_imaging_CSF_2019Jul30_testset_fixed', \\\n",
    "                         'NUPDRS23_45': 'survival_model_3_years_baseline_2019Jul23_metricsfixed', \\\n",
    "                         'MOCA_25': 'survival_model_3_years_standard_plus_treatment_imaging_CSF_expanded_2019Jul23_metricsfixed', \\\n",
    "                         'MSEADLG_79': 'logistic_regression_3_years_standard_plus_treatment_imaging_CSF_expanded_2019Jul30_testset_fixed'\n",
    "                        }"
   ]
  },
  {
   "cell_type": "code",
   "execution_count": null,
   "metadata": {},
   "outputs": [],
   "source": [
    "outcome_best_prec_3yr_survival = {'Autonomic': 'cox', \\\n",
    "                                  'Cognitive': 'cox', \\\n",
    "                                  'Psychiatric': 'cox', \\\n",
    "                                  'Motor': 'cox', \\\n",
    "                                  'Sleep': 'cox', \\\n",
    "                                  'NUPDRS23_45': 'cox', \\\n",
    "                                  'MOCA_25': 'cox'\n",
    "                                 }"
   ]
  },
  {
   "cell_type": "code",
   "execution_count": null,
   "metadata": {},
   "outputs": [],
   "source": [
    "best_model_dicts = {'2-year best AUROC': outcome_best_auroc_2yr, \\\n",
    "                    '2-year best precision': outcome_best_prec_2yr, \\\n",
    "                    '3-year best AUROC': outcome_best_auroc_3yr, \\\n",
    "                    '3-year best AUROC 2': outcome_best_auroc_3yr_2, \\\n",
    "                    '3-year best precision': outcome_best_prec_3yr, \n",
    "                   }"
   ]
  },
  {
   "cell_type": "code",
   "execution_count": null,
   "metadata": {},
   "outputs": [],
   "source": [
    "best_model_survival_dicts = {'2-year best AUROC': outcome_best_auroc_2yr_survival, \\\n",
    "                             '2-year best precision': outcome_best_prec_2yr_survival, \\\n",
    "                             '3-year best AUROC': outcome_best_auroc_3yr_survival, \\\n",
    "                             '3-year best AUROC 2': outcome_best_auroc_3yr_2_survival, \\\n",
    "                             '3-year best precision': outcome_best_prec_3yr_survival, \n",
    "                            }"
   ]
  },
  {
   "cell_type": "code",
   "execution_count": null,
   "metadata": {},
   "outputs": [],
   "source": [
    "true_df_2yrs = pd.read_csv('PD_outcomes_filter2yrs.csv')\n",
    "true_df_3yrs = pd.read_csv('PD_outcomes_filter3yrs.csv')"
   ]
  },
  {
   "cell_type": "code",
   "execution_count": null,
   "metadata": {},
   "outputs": [],
   "source": [
    "import math\n",
    "from scipy.stats import norm\n",
    "def calc_sample_size(p_c, relative_risk_reduction, power):\n",
    "    p_t = (1.-relative_risk_reduction)*p_c\n",
    "    a = norm.ppf(0.975) # assume alpha = 0.05\n",
    "    b = norm.ppf(power)\n",
    "    return int(math.ceil((a+b)**2*(p_c*(1.-p_c) + p_t*(1.-p_t))/((p_c-p_t)**2)))\n",
    "def compute_sample_sizes(df, outcome_name):\n",
    "    p_c = df[outcome_name + '_E'].mean()\n",
    "    n_red2_pow8 = calc_sample_size(p_c, .2, .8)\n",
    "    n_red2_pow9 = calc_sample_size(p_c, .2, .9)\n",
    "    n_red3_pow8 = calc_sample_size(p_c, .3, .8)\n",
    "    n_red3_pow9 = calc_sample_size(p_c, .3, .9)\n",
    "    return p_c, n_red2_pow8, n_red2_pow9, n_red3_pow8, n_red3_pow9\n",
    "    "
   ]
  },
  {
   "cell_type": "code",
   "execution_count": null,
   "metadata": {},
   "outputs": [],
   "source": [
    "outcome_sizes_dict = dict() # best_metric -> outcome_name -> orig, pred, screen dicts\n",
    "outcome_p_c_dict = dict()\n",
    "outcome_prop_pred1_dict = dict()\n",
    "for best_metric in best_model_dicts.keys():\n",
    "    print(best_metric)\n",
    "    outcome_sizes_dict[best_metric] = dict()\n",
    "    outcome_p_c_dict[best_metric] = dict()\n",
    "    outcome_prop_pred1_dict[best_metric] = dict()\n",
    "    for outcome_name in best_model_dicts[best_metric].keys():\n",
    "        outcome_sizes_dict[best_metric][outcome_name] = dict()\n",
    "        outcome_p_c_dict[best_metric][outcome_name] = dict()\n",
    "        outcome_prop_pred1_dict[best_metric][outcome_name] = np.empty(4)\n",
    "        outcome_p_c_dict[best_metric][outcome_name]['pred'] = np.empty(4)\n",
    "        output_dir = best_model_dicts[best_metric][outcome_name] + '/'\n",
    "        pred_sizes_dict = {'red2_pow8': np.empty(4), 'red2_pow9': np.empty(4), 'red3_pow8': np.empty(4), \\\n",
    "                           'red3_pow9': np.empty(4)}\n",
    "        screen_sizes_dict = {'red2_pow8': np.empty(4), 'red2_pow9': np.empty(4), 'red3_pow8': np.empty(4), \\\n",
    "                             'red3_pow9': np.empty(4)}\n",
    "        if best_metric.startswith('2-year'):\n",
    "            true_df = true_df_2yrs\n",
    "        else:\n",
    "            true_df = true_df_3yrs\n",
    "        orig_p_c, orig_n_red2_pow8, orig_n_red2_pow9, orig_n_red3_pow8, orig_n_red3_pow9 \\\n",
    "            = compute_sample_sizes(true_df, outcome_name)\n",
    "        outcome_p_c_dict[best_metric][outcome_name]['orig'] = orig_p_c\n",
    "        orig_sizes_dict = dict()\n",
    "        orig_sizes_dict['red2_pow8'] = orig_n_red2_pow8\n",
    "        orig_sizes_dict['red2_pow9'] = orig_n_red2_pow9\n",
    "        orig_sizes_dict['red3_pow8'] = orig_n_red3_pow8\n",
    "        orig_sizes_dict['red3_pow9'] = orig_n_red3_pow9\n",
    "        outcome_sizes_dict[best_metric][outcome_name]['orig'] = orig_sizes_dict\n",
    "        for fold_idx in range(4):\n",
    "            if output_dir.startswith('survival_model'):\n",
    "                model_type = best_model_survival_dicts[best_metric][outcome_name]\n",
    "                fold_preds = pd.read_csv(output_dir + outcome_name + '_' + model_type + '_fold' + str(fold_idx) \\\n",
    "                                         + '_test_preds.csv')\n",
    "                fold_preds['pred'] = np.where(fold_preds[outcome_name + '_T_pred'] <= 2, 1, 0)\n",
    "            else:\n",
    "                fold_preds = pd.read_csv(output_dir + outcome_name + '_test_preds_fold' + str(fold_idx) + '.csv')\n",
    "            merged_df = fold_preds[['PATNO','pred']].merge(true_df[['PATNO', outcome_name + '_E']], on=['PATNO'], \\\n",
    "                                                           suffixes=(False, False), validate='one_to_one')\n",
    "            prop_pred1 = float(merged_df['pred'].mean())\n",
    "            outcome_prop_pred1_dict[best_metric][outcome_name][fold_idx] = prop_pred1\n",
    "            prop_pred1_is_true1 = merged_df.loc[merged_df['pred']==1][outcome_name + '_E'].mean()\n",
    "            if prop_pred1_is_true1 == 0:\n",
    "                print(outcome_name + ' ' + str(fold_idx))\n",
    "            if prop_pred1 > 0:\n",
    "                merged_pred1_df = merged_df.loc[merged_df['pred']==1]\n",
    "                pred_p_c, pred_n_red2_pow8, pred_n_red2_pow9, pred_n_red3_pow8, pred_n_red3_pow9 \\\n",
    "                    = compute_sample_sizes(merged_pred1_df, outcome_name)\n",
    "                pred_sizes_dict['red2_pow8'][fold_idx] = pred_n_red2_pow8\n",
    "                pred_sizes_dict['red2_pow9'][fold_idx] = pred_n_red2_pow9\n",
    "                pred_sizes_dict['red3_pow8'][fold_idx] = pred_n_red3_pow8\n",
    "                pred_sizes_dict['red3_pow9'][fold_idx] = pred_n_red3_pow9\n",
    "                screen_sizes_dict['red2_pow8'][fold_idx] = int(math.ceil(pred_n_red2_pow8/prop_pred1))\n",
    "                screen_sizes_dict['red2_pow9'][fold_idx] = int(math.ceil(pred_n_red2_pow9/prop_pred1))\n",
    "                screen_sizes_dict['red3_pow8'][fold_idx] = int(math.ceil(pred_n_red3_pow8/prop_pred1))\n",
    "                screen_sizes_dict['red3_pow9'][fold_idx] = int(math.ceil(pred_n_red3_pow9/prop_pred1))\n",
    "                outcome_p_c_dict[best_metric][outcome_name]['pred'][fold_idx] = pred_p_c\n",
    "            else:\n",
    "                print('No predictions were 1')\n",
    "                pred_sizes_dict['red2_pow8'][fold_idx] = float('nan')\n",
    "                pred_sizes_dict['red2_pow9'][fold_idx] = float('nan')\n",
    "                pred_sizes_dict['red3_pow8'][fold_idx] = float('nan')\n",
    "                pred_sizes_dict['red3_pow9'][fold_idx] = float('nan')\n",
    "                screen_sizes_dict['red2_pow8'][fold_idx] = float('nan')\n",
    "                screen_sizes_dict['red2_pow9'][fold_idx] = float('nan')\n",
    "                screen_sizes_dict['red3_pow8'][fold_idx] = float('nan')\n",
    "                screen_sizes_dict['red3_pow9'][fold_idx] = float('nan')\n",
    "                outcome_p_c_dict[best_metric][outcome_name]['pred'][fold_idx] = float('nan')\n",
    "        outcome_sizes_dict[best_metric][outcome_name]['pred'] = pred_sizes_dict\n",
    "        outcome_sizes_dict[best_metric][outcome_name]['screen'] = screen_sizes_dict"
   ]
  },
  {
   "cell_type": "code",
   "execution_count": null,
   "metadata": {},
   "outputs": [],
   "source": [
    "with open('final_outcome_sizes_dict_testset_fixed.pkl', 'w') as f:\n",
    "    pickle.dump(outcome_sizes_dict, f)\n",
    "with open('final_outcome_p_c_dict_testset_fixed.pkl', 'w') as f:\n",
    "    pickle.dump(outcome_p_c_dict, f)\n",
    "with open('final_outcome_prop_pred1_dict_testset_fixed.pkl', 'w') as f:\n",
    "    pickle.dump(outcome_prop_pred1_dict, f)"
   ]
  },
  {
   "cell_type": "code",
   "execution_count": null,
   "metadata": {
    "scrolled": false
   },
   "outputs": [],
   "source": [
    "# print orig, pred folds, pred mean, screen folds, screen mean\n",
    "for best_metric in outcome_sizes_dict.keys():\n",
    "    print(best_metric)\n",
    "    for outcome_name in outcome_sizes_dict[best_metric].keys():\n",
    "        print(outcome_name)\n",
    "        orig_dict = outcome_sizes_dict[best_metric][outcome_name]['orig']\n",
    "        print('Orig: {0:.4f}, '.format(outcome_p_c_dict[best_metric][outcome_name]['orig']) \\\n",
    "              + str(orig_dict['red2_pow8']) + ', ' + str(orig_dict['red2_pow9']) + ', ' \\\n",
    "              + str(orig_dict['red3_pow8']) + ', ' + str(orig_dict['red3_pow9']))\n",
    "        pred_dict = outcome_sizes_dict[best_metric][outcome_name]['pred']\n",
    "        pred_p_c_arr = outcome_p_c_dict[best_metric][outcome_name]['pred']\n",
    "        '''\n",
    "        for fold_idx in range(4):\n",
    "            print('Pred fold ' + str(fold_idx) + ': {0:.4f}, '.format(pred_p_c_arr[fold_idx]) \\\n",
    "                  + '{0:.4f}, '.format(outcome_prop_pred1_dict[best_metric][outcome_name][fold_idx])\n",
    "                  + str(pred_dict['red2_pow8'][fold_idx]) + ', ' \\\n",
    "                  + str(pred_dict['red2_pow9'][fold_idx]) + ', ' + str(pred_dict['red3_pow8'][fold_idx]) \\\n",
    "                  + ', ' + str(pred_dict['red3_pow9'][fold_idx]))\n",
    "        '''\n",
    "        print('Pred fold mean: {0:.4f}, '.format(np.nanmean(pred_p_c_arr)) \\\n",
    "              + '{0:.4f}, '.format(np.nanmean(outcome_prop_pred1_dict[best_metric][outcome_name])) \\\n",
    "              + '{0:.4f}, '.format(np.nanmean(pred_dict['red2_pow8'])) \\\n",
    "              + '{0:.4f}, '.format(np.nanmean(pred_dict['red2_pow9'])) \\\n",
    "              + '{0:.4f}, '.format(np.nanmean(pred_dict['red3_pow8'])) \\\n",
    "              + '{0:.4f}'.format(np.nanmean(pred_dict['red3_pow9'])))\n",
    "        print('Pred fold std: {0:.4f}, '.format(np.nanstd(pred_p_c_arr)) \\\n",
    "              + '{0:.4f}, '.format(np.nanstd(outcome_prop_pred1_dict[best_metric][outcome_name])) \\\n",
    "              + '{0:.4f}, '.format(np.nanstd(pred_dict['red2_pow8'])) \\\n",
    "              + '{0:.4f}, '.format(np.nanstd(pred_dict['red2_pow9'])) \\\n",
    "              + '{0:.4f}, '.format(np.nanstd(pred_dict['red3_pow8'])) \\\n",
    "              + '{0:.4f}'.format(np.nanstd(pred_dict['red3_pow9'])))\n",
    "        screen_dict = outcome_sizes_dict[best_metric][outcome_name]['screen']\n",
    "        '''\n",
    "        for fold_idx in range(4):\n",
    "            print('Screen fold ' + str(fold_idx) + ': ' + str(screen_dict['red2_pow8'][fold_idx]) + ', ' \\\n",
    "                  + str(screen_dict['red2_pow9'][fold_idx]) + ', ' + str(screen_dict['red3_pow8'][fold_idx]) \\\n",
    "                  + ', ' + str(screen_dict['red3_pow9'][fold_idx]))\n",
    "        '''\n",
    "        print('Screen fold mean: {0:.4f}, '.format(np.nanmean(screen_dict['red2_pow8'])) \\\n",
    "              + '{0:.4f}, '.format(np.nanmean(screen_dict['red2_pow9'])) \\\n",
    "              + '{0:.4f}, '.format(np.nanmean(screen_dict['red3_pow8'])) \\\n",
    "              + '{0:.4f}'.format(np.nanmean(screen_dict['red3_pow9'])))\n",
    "        print('Screen fold std: ' + '{0:.4f}, '.format(np.nanstd(screen_dict['red2_pow8'])) \\\n",
    "              + '{0:.4f}, '.format(np.nanstd(screen_dict['red2_pow9'])) \\\n",
    "              + '{0:.4f}, '.format(np.nanstd(screen_dict['red3_pow8'])) \\\n",
    "              + '{0:.4f}'.format(np.nanstd(screen_dict['red3_pow9'])))"
   ]
  },
  {
   "cell_type": "code",
   "execution_count": null,
   "metadata": {},
   "outputs": [],
   "source": [
    "# calculate oracle sizes\n",
    "true_df_2yrs = pd.read_csv('PD_outcomes_filter2yrs.csv')\n",
    "true_df_3yrs = pd.read_csv('PD_outcomes_filter3yrs.csv')\n",
    "r20_p80_oracle_size = calc_sample_size(1., .2, .8)\n",
    "r20_p90_oracle_size = calc_sample_size(1., .2, .9)\n",
    "r30_p80_oracle_size = calc_sample_size(1., .3, .8)\n",
    "r30_p90_oracle_size = calc_sample_size(1., .3, .9)\n",
    "print('Oracle sizes: ' + str(r20_p80_oracle_size) + ', ' + str(r20_p90_oracle_size) + ', ' \\\n",
    "      + str(r30_p80_oracle_size) + ', ' + str(r30_p90_oracle_size))\n",
    "for outcome in outcome_best_auroc_2yr.keys():\n",
    "    prop_obs_2yr = float(true_df_2yrs[outcome + '_E'].mean())\n",
    "    print(outcome + ' in 2 years: ' + str(int(math.ceil(r20_p80_oracle_size/prop_obs_2yr))) + ', ' \\\n",
    "          + str(int(math.ceil(r20_p90_oracle_size/prop_obs_2yr))) + ', ' \\\n",
    "          + str(int(math.ceil(r30_p80_oracle_size/prop_obs_2yr))) + ', ' \\\n",
    "          + str(int(math.ceil(r30_p90_oracle_size/prop_obs_2yr))))\n",
    "    \n",
    "    prop_obs_3yr = float(true_df_3yrs[outcome + '_E'].mean())\n",
    "    print(outcome + ' in 3 years: ' + str(int(math.ceil(r20_p80_oracle_size/prop_obs_3yr))) + ', ' \\\n",
    "          + str(int(math.ceil(r20_p90_oracle_size/prop_obs_3yr))) + ', ' \\\n",
    "          + str(int(math.ceil(r30_p80_oracle_size/prop_obs_3yr))) + ', ' \\\n",
    "          + str(int(math.ceil(r30_p90_oracle_size/prop_obs_3yr))))"
   ]
  },
  {
   "cell_type": "code",
   "execution_count": null,
   "metadata": {},
   "outputs": [],
   "source": []
  }
 ],
 "metadata": {
  "kernelspec": {
   "display_name": "Python 2",
   "language": "python",
   "name": "python2"
  },
  "language_info": {
   "codemirror_mode": {
    "name": "ipython",
    "version": 2
   },
   "file_extension": ".py",
   "mimetype": "text/x-python",
   "name": "python",
   "nbconvert_exporter": "python",
   "pygments_lexer": "ipython2",
   "version": "2.7.15"
  }
 },
 "nbformat": 4,
 "nbformat_minor": 2
}
