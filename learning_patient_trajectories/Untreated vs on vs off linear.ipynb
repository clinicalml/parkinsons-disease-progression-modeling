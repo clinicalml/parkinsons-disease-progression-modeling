{
 "cells": [
  {
   "cell_type": "code",
   "execution_count": null,
   "metadata": {},
   "outputs": [],
   "source": [
    "import numpy as np, pandas as pd, matplotlib.pyplot as plt, math, seaborn as sns\n",
    "from sklearn.linear_model import LinearRegression\n",
    "plt.rcParams.update({'font.size': 14})"
   ]
  },
  {
   "cell_type": "code",
   "execution_count": null,
   "metadata": {},
   "outputs": [],
   "source": [
    "data_dir = '../../../datasets/ppmi/visit_feature_inputs_asof_2019Jan24_using_CMEDTM/'\n",
    "pd_total_df = pd.read_csv(data_dir + 'PD_totals_across_time.csv')"
   ]
  },
  {
   "cell_type": "code",
   "execution_count": null,
   "metadata": {},
   "outputs": [],
   "source": [
    "pd_total_df.columns.values"
   ]
  },
  {
   "cell_type": "markdown",
   "metadata": {},
   "source": [
    "### Select 20 patients to use for visualizations"
   ]
  },
  {
   "cell_type": "code",
   "execution_count": null,
   "metadata": {},
   "outputs": [],
   "source": [
    "np.random.seed(82073)\n",
    "patnos = pd_total_df.PATNO.unique()\n",
    "np.random.shuffle(patnos)\n",
    "selected_patnos = np.empty(20)\n",
    "idx = 0\n",
    "for patno in patnos:\n",
    "    if idx == 20:\n",
    "        break\n",
    "    patno_df = pd_total_df.loc[pd_total_df['PATNO']==patno]\n",
    "    patno_df = patno_df.dropna(subset=['NUPDRS3_untreated', 'NUPDRS3_off', 'NUPDRS3_on'], \\\n",
    "                               how='all').sort_values(by=['EVENT_ID_DUR'])\n",
    "    if len(patno_df) >= 5:\n",
    "        selected_patnos[idx] = patno\n",
    "        idx += 1\n",
    "selected_patnos"
   ]
  },
  {
   "cell_type": "markdown",
   "metadata": {},
   "source": [
    "### Plot MDS-UPDRS III untreated vs off vs on vs MAO-B inhibitor"
   ]
  },
  {
   "cell_type": "code",
   "execution_count": null,
   "metadata": {},
   "outputs": [],
   "source": [
    "def make_plots_4treatment_cond(pd_totals_df, col_header, selected_patnos, xlim=None, ylim=None):\n",
    "    fig, ax = plt.subplots(nrows=4, ncols=5, figsize=(20, 16))#, sharex=True, sharey=True)\n",
    "    if xlim is not None:\n",
    "        for i in range(2):\n",
    "            for j in range(5):\n",
    "                ax[i,j].set_xlim(xlim) # want labels on each axis\n",
    "    if ylim is not None:\n",
    "        for i in range(2):\n",
    "            for j in range(5):\n",
    "                ax[i,j].set_ylim(ylim)\n",
    "    idx = 0\n",
    "    for patno in selected_patnos:\n",
    "        patno_df = pd_totals_df.loc[pd_totals_df['PATNO']==patno]\n",
    "        patno_df = patno_df.dropna(subset=[col_header+'_untreated',col_header+'_off',col_header+'_on', \\\n",
    "                                           col_header + '_maob'],\\\n",
    "                                   how='all').sort_values(by=['EVENT_ID_DUR'])\n",
    "            \n",
    "        untreated_df = patno_df.dropna(subset=[col_header+'_untreated'])\n",
    "        untreated_times = untreated_df.EVENT_ID_DUR.values\n",
    "        untreated_values = untreated_df[col_header+'_untreated'].values\n",
    "        if len(untreated_times) > 0:\n",
    "            ax[int(idx/5), int(idx%5)].scatter(untreated_times, untreated_values, c='b', label='untreated')\n",
    "            if len(untreated_times) > 1:\n",
    "                untreated_linreg = LinearRegression().fit(untreated_times.reshape(-1,1), untreated_values)\n",
    "                ax[int(idx/5), int(idx%5)].plot(untreated_times, untreated_linreg.predict(untreated_times.reshape(-1, 1)), 'b')\n",
    "        \n",
    "        off_df = patno_df.dropna(subset=[col_header+'_off'])\n",
    "        off_times = off_df.EVENT_ID_DUR.values\n",
    "        off_values = off_df[col_header+'_off'].values\n",
    "        if len(off_times) > 0:\n",
    "            ax[int(idx/5), int(idx%5)].scatter(off_times, off_values, c='g', label='\"off\" meds')\n",
    "            if len(off_times) > 1:\n",
    "                off_linreg = LinearRegression().fit(off_times.reshape(-1,1), off_values)\n",
    "                ax[int(idx/5), int(idx%5)].plot(off_times, off_linreg.predict(off_times.reshape(-1, 1)), 'g')\n",
    "        \n",
    "        on_df = patno_df.dropna(subset=[col_header+'_on'])\n",
    "        on_times = on_df.EVENT_ID_DUR.values\n",
    "        on_values = on_df[col_header+'_on'].values\n",
    "        if len(on_times) > 0:\n",
    "            ax[int(idx/5), int(idx%5)].scatter(on_times, on_values, c='r', label='\"on\" meds')\n",
    "            if len(on_times) > 1:\n",
    "                on_linreg = LinearRegression().fit(on_times.reshape(-1,1), on_values)\n",
    "                ax[int(idx/5), int(idx%5)].plot(on_times, on_linreg.predict(on_times.reshape(-1, 1)), 'r')\n",
    "        maob_df = patno_df.dropna(subset=[col_header+'_maob'])\n",
    "        maob_times = maob_df.EVENT_ID_DUR.values\n",
    "        maob_values = maob_df[col_header+'_maob'].values\n",
    "        if len(maob_times) > 0:\n",
    "            ax[int(idx/5), int(idx%5)].scatter(maob_times, maob_values, c='y', label='MAO-B')\n",
    "        idx += 1\n",
    "    plt.legend()\n",
    "    plt.tight_layout()\n",
    "    plt.suptitle(col_header)\n",
    "    plt.show()"
   ]
  },
  {
   "cell_type": "code",
   "execution_count": null,
   "metadata": {},
   "outputs": [],
   "source": [
    "make_plots_4treatment_cond(pd_total_df, 'NUPDRS3', selected_patnos)"
   ]
  },
  {
   "cell_type": "code",
   "execution_count": null,
   "metadata": {},
   "outputs": [],
   "source": [
    "pd_questions_df = pd.read_csv(data_dir + 'PD_questions_across_time.csv')\n",
    "pd_questions_df.columns.values"
   ]
  },
  {
   "cell_type": "markdown",
   "metadata": {},
   "source": [
    "### Merge other medication data?"
   ]
  },
  {
   "cell_type": "code",
   "execution_count": null,
   "metadata": {},
   "outputs": [],
   "source": [
    "treatment_dir = '../../../datasets/ppmi/treatment_pipeline_output_asof_2019Jan24/'\n",
    "pd_prior_treatment_df = pd.read_csv(treatment_dir + 'PD_treatment_before_first_visit.csv')\n",
    "pd_treatment_df = pd.read_csv(treatment_dir + 'PD_treatment_between_visits.csv')"
   ]
  },
  {
   "cell_type": "code",
   "execution_count": null,
   "metadata": {},
   "outputs": [],
   "source": [
    "with pd.option_context('display.max_columns', None):\n",
    "    display(pd_prior_treatment_df.head())\n",
    "    display(pd_treatment_df.head())"
   ]
  },
  {
   "cell_type": "code",
   "execution_count": null,
   "metadata": {},
   "outputs": [],
   "source": [
    "treatments_of_interest = ['DOPAMINE REPLACEMENT', 'ANTICONVULSANT',  'ANTITREMOR',  'ANTISPASMODIC', \\\n",
    "                          'MUSCLE RELAXER', 'ANXIOLYTIC', 'MOOD STABILIZER', 'COGNITIVE ENHANCER']\n",
    "pd_questions_df = pd_questions_df.merge(pd_treatment_df[['PATNO','EVENT_ID'] + treatments_of_interest], \\\n",
    "                                        on=['PATNO','EVENT_ID'], how='left', validate='one_to_one')"
   ]
  },
  {
   "cell_type": "markdown",
   "metadata": {},
   "source": [
    "### Plot subtotals across time colored by treatment"
   ]
  },
  {
   "cell_type": "code",
   "execution_count": null,
   "metadata": {},
   "outputs": [],
   "source": [
    "def get_4cond_cols(cols):\n",
    "    # returns untreated, off, on, maob\n",
    "    untreated_cols = []\n",
    "    off_cols = []\n",
    "    on_cols = []\n",
    "    maob_cols = []\n",
    "    for col in cols:\n",
    "        if col.startswith('NP3'):\n",
    "            untreated_cols.append(col+'_untreated')\n",
    "            off_cols.append(col+'_off')\n",
    "            on_cols.append(col+'_on')\n",
    "            maob_cols.append(col+'_maob')\n",
    "        else:\n",
    "            untreated_cols.append(col)\n",
    "            off_cols.append(col)\n",
    "            on_cols.append(col)\n",
    "            maob_cols.append(col)\n",
    "    return untreated_cols, off_cols, on_cols, maob_cols"
   ]
  },
  {
   "cell_type": "code",
   "execution_count": null,
   "metadata": {},
   "outputs": [],
   "source": [
    "def get_cond_sum(df, cols, sum_col):\n",
    "    df[sum_col] = np.where(pd.isnull(df[cols[0]]), float('NaN'), df[cols].sum(axis=1))\n",
    "    return df"
   ]
  },
  {
   "cell_type": "code",
   "execution_count": null,
   "metadata": {},
   "outputs": [],
   "source": [
    "tremor_cols = ['NP3RTALL', 'NP3RTALU', 'NP3KTRML', 'NP3PTRML', 'NP3KTRMR', 'NP3PTRMR', 'NP3RTARU', \\\n",
    "                   'NP3RTALJ', 'NP3RTARL', 'NP2TRMR', 'NP3RTCON']\n",
    "tremor_untreated_cols, tremor_off_cols, tremor_on_cols, tremor_maob_cols = get_4cond_cols(tremor_cols)\n",
    "pd_questions_df = get_cond_sum(pd_questions_df, tremor_untreated_cols, 'NUPDRS_TREMOR_untreated')\n",
    "pd_questions_df = get_cond_sum(pd_questions_df, tremor_off_cols, 'NUPDRS_TREMOR_off')\n",
    "pd_questions_df = get_cond_sum(pd_questions_df, tremor_on_cols, 'NUPDRS_TREMOR_on')\n",
    "pd_questions_df = get_cond_sum(pd_questions_df, tremor_maob_cols, 'NUPDRS_TREMOR_maob')"
   ]
  },
  {
   "cell_type": "code",
   "execution_count": null,
   "metadata": {},
   "outputs": [],
   "source": [
    "make_plots_4treatment_cond(pd_questions_df, 'NUPDRS_TREMOR', selected_patnos)"
   ]
  },
  {
   "cell_type": "code",
   "execution_count": null,
   "metadata": {},
   "outputs": [],
   "source": [
    "rigidity_left_cols = ['NP3RIGLU', 'NP3RIGLL', 'NP3PRSPL', 'NP3FTAPL', 'NP3HMOVL', 'NP3LGAGL', 'NP3TTAPL']\n",
    "rigidity_left_untreated_cols, rigidity_left_off_cols, rigidity_left_on_cols, rigidity_left_maob_cols \\\n",
    "    = get_4cond_cols(rigidity_left_cols)\n",
    "pd_questions_df = get_cond_sum(pd_questions_df, rigidity_left_untreated_cols, 'NUPDRS_RIGIDITY_LEFT_untreated')\n",
    "pd_questions_df = get_cond_sum(pd_questions_df, rigidity_left_off_cols, 'NUPDRS_RIGIDITY_LEFT_off')\n",
    "pd_questions_df = get_cond_sum(pd_questions_df, rigidity_left_on_cols, 'NUPDRS_RIGIDITY_LEFT_on')\n",
    "pd_questions_df = get_cond_sum(pd_questions_df, rigidity_left_maob_cols, 'NUPDRS_RIGIDITY_LEFT_maob')"
   ]
  },
  {
   "cell_type": "code",
   "execution_count": null,
   "metadata": {},
   "outputs": [],
   "source": [
    "make_plots_4treatment_cond(pd_questions_df, 'NUPDRS_RIGIDITY_LEFT', selected_patnos)"
   ]
  },
  {
   "cell_type": "code",
   "execution_count": null,
   "metadata": {},
   "outputs": [],
   "source": [
    "rigidity_right_cols = ['NP3RIGRL', 'NP3RIGRU', 'NP3PRSPR', 'NP3FTAPR', 'NP3HMOVR', 'NP3LGAGR', 'NP3TTAPR']\n",
    "rigidity_right_untreated_cols, rigidity_right_off_cols, rigidity_right_on_cols, rigidity_right_maob_cols \\\n",
    "    = get_4cond_cols(rigidity_right_cols)\n",
    "pd_questions_df = get_cond_sum(pd_questions_df, rigidity_right_untreated_cols, 'NUPDRS_RIGIDITY_RIGHT_untreated')\n",
    "pd_questions_df = get_cond_sum(pd_questions_df, rigidity_right_off_cols, 'NUPDRS_RIGIDITY_RIGHT_off')\n",
    "pd_questions_df = get_cond_sum(pd_questions_df, rigidity_right_on_cols, 'NUPDRS_RIGIDITY_RIGHT_on')\n",
    "pd_questions_df = get_cond_sum(pd_questions_df, rigidity_right_maob_cols, 'NUPDRS_RIGIDITY_RIGHT_maob')"
   ]
  },
  {
   "cell_type": "code",
   "execution_count": null,
   "metadata": {},
   "outputs": [],
   "source": [
    "make_plots_4treatment_cond(pd_questions_df, 'NUPDRS_RIGIDITY_RIGHT', selected_patnos)"
   ]
  },
  {
   "cell_type": "code",
   "execution_count": null,
   "metadata": {},
   "outputs": [],
   "source": [
    "face_cols = ['NP3SPCH', 'NP3RIGN', 'NP3BRADY', 'NP3FACXP']\n",
    "face_untreated_cols, face_off_cols, face_on_cols, face_maob_cols = get_4cond_cols(face_cols)\n",
    "pd_questions_df = get_cond_sum(pd_questions_df, face_untreated_cols, 'NUPDRS_FACE_untreated')\n",
    "pd_questions_df = get_cond_sum(pd_questions_df, face_off_cols, 'NUPDRS_FACE_off')\n",
    "pd_questions_df = get_cond_sum(pd_questions_df, face_on_cols, 'NUPDRS_FACE_on')\n",
    "pd_questions_df = get_cond_sum(pd_questions_df, face_maob_cols, 'NUPDRS_FACE_maob')"
   ]
  },
  {
   "cell_type": "code",
   "execution_count": null,
   "metadata": {},
   "outputs": [],
   "source": [
    "make_plots_4treatment_cond(pd_questions_df, 'NUPDRS_FACE', selected_patnos)"
   ]
  },
  {
   "cell_type": "code",
   "execution_count": null,
   "metadata": {},
   "outputs": [],
   "source": [
    "gait_cols = ['NP3FRZGT', 'NP3PSTBL', 'NP3RISNG', 'NP3GAIT', 'NP3POSTR']\n",
    "gait_untreated_cols, gait_off_cols, gait_on_cols, gait_maob_cols = get_4cond_cols(gait_cols)\n",
    "pd_questions_df = get_cond_sum(pd_questions_df, gait_untreated_cols, 'NUPDRS_GAIT_untreated')\n",
    "pd_questions_df = get_cond_sum(pd_questions_df, gait_off_cols, 'NUPDRS_GAIT_off')\n",
    "pd_questions_df = get_cond_sum(pd_questions_df, gait_on_cols, 'NUPDRS_GAIT_on')\n",
    "pd_questions_df = get_cond_sum(pd_questions_df, gait_maob_cols, 'NUPDRS_GAIT_maob')"
   ]
  },
  {
   "cell_type": "code",
   "execution_count": null,
   "metadata": {},
   "outputs": [],
   "source": [
    "make_plots_4treatment_cond(pd_questions_df, 'NUPDRS_GAIT', selected_patnos)"
   ]
  },
  {
   "cell_type": "code",
   "execution_count": null,
   "metadata": {},
   "outputs": [],
   "source": [
    "def get_on_off_sums(df, cols, med_cols, sum_header):\n",
    "    df[sum_header + '_untreated'] = np.where(df[med_cols].sum(axis=1) == 0, df[cols].sum(axis=1), float('NaN'))\n",
    "    df[sum_header + '_treated'] = np.where(df[med_cols].sum(axis=1) == 0, float('NaN'), df[cols].sum(axis=1))\n",
    "    return df"
   ]
  },
  {
   "cell_type": "code",
   "execution_count": null,
   "metadata": {},
   "outputs": [],
   "source": [
    "daily_activities = ['NP2HWRT', 'NP2FREZ', 'NP2HYGN', 'NP2EAT', 'NP2HOBB', 'NP2WALK', 'NP2DRES', 'NP2RISE', \\\n",
    "                    'NP2TURN', 'NP2SWAL', 'NP2SALV', 'NP2SPCH']\n",
    "dopamine_med_cols = ['DOPAMINE REPLACEMENT']\n",
    "pd_questions_df = get_on_off_sums(pd_questions_df, daily_activities, dopamine_med_cols, 'NUPDRS_DAILYACT_DOPA')\n",
    "motor_med_cols = ['DOPAMINE REPLACEMENT', 'ANTICONVULSANT', 'ANTITREMOR', 'ANTISPASMODIC', 'MUSCLE RELAXER']\n",
    "pd_questions_df = get_on_off_sums(pd_questions_df, daily_activities, motor_med_cols, 'NUPDRS_DAILYACT_MOTOR')"
   ]
  },
  {
   "cell_type": "code",
   "execution_count": null,
   "metadata": {},
   "outputs": [],
   "source": [
    "def make_plots_2treatment_cond(pd_totals_df, col_header, selected_patnos, xlim=None, ylim=None):\n",
    "    fig, ax = plt.subplots(nrows=4, ncols=5, figsize=(20, 16))#, sharex=True, sharey=True)\n",
    "    if xlim is not None:\n",
    "        for i in range(2):\n",
    "            for j in range(5):\n",
    "                ax[i,j].set_xlim(xlim) # want labels on each axis\n",
    "    if ylim is not None:\n",
    "        for i in range(2):\n",
    "            for j in range(5):\n",
    "                ax[i,j].set_ylim(ylim)\n",
    "    idx = 0\n",
    "    for patno in selected_patnos:\n",
    "        patno_df = pd_totals_df.loc[pd_totals_df['PATNO']==patno]\n",
    "        patno_df = patno_df.dropna(subset=[col_header+'_untreated',col_header+'_treated'], \\\n",
    "                                   how='all').sort_values(by=['EVENT_ID_DUR'])\n",
    "            \n",
    "        untreated_df = patno_df.dropna(subset=[col_header+'_untreated'])\n",
    "        untreated_times = untreated_df.EVENT_ID_DUR.values\n",
    "        untreated_values = untreated_df[col_header+'_untreated'].values\n",
    "        if len(untreated_times) > 0:\n",
    "            ax[int(idx/5), int(idx%5)].scatter(untreated_times, untreated_values, c='b', label='untreated')\n",
    "            if len(untreated_times) > 1:\n",
    "                untreated_linreg = LinearRegression().fit(untreated_times.reshape(-1,1), untreated_values)\n",
    "                ax[int(idx/5), int(idx%5)].plot(untreated_times, untreated_linreg.predict(untreated_times.reshape(-1, 1)), 'b')\n",
    "        \n",
    "        treated_df = patno_df.dropna(subset=[col_header+'_treated'])\n",
    "        treated_times = treated_df.EVENT_ID_DUR.values\n",
    "        treated_values = treated_df[col_header+'_treated'].values\n",
    "        if len(treated_times) > 0:\n",
    "            ax[int(idx/5), int(idx%5)].scatter(treated_times, treated_values, c='r', label='treated')\n",
    "            if len(treated_times) > 1:\n",
    "                treated_linreg = LinearRegression().fit(treated_times.reshape(-1,1), treated_values)\n",
    "                ax[int(idx/5), int(idx%5)].plot(treated_times, treated_linreg.predict(treated_times.reshape(-1, 1)), 'r')\n",
    "        \n",
    "        idx += 1\n",
    "    plt.tight_layout()\n",
    "    plt.suptitle(col_header)\n",
    "    plt.show()"
   ]
  },
  {
   "cell_type": "code",
   "execution_count": null,
   "metadata": {},
   "outputs": [],
   "source": [
    "make_plots_2treatment_cond(pd_questions_df, 'NUPDRS_DAILYACT_DOPA', selected_patnos)"
   ]
  },
  {
   "cell_type": "code",
   "execution_count": null,
   "metadata": {},
   "outputs": [],
   "source": [
    "make_plots_2treatment_cond(pd_questions_df, 'NUPDRS_DAILYACT_MOTOR', selected_patnos)\n",
    "# fine to just go with dopa replacement above - ignore this one for now"
   ]
  },
  {
   "cell_type": "code",
   "execution_count": null,
   "metadata": {},
   "outputs": [],
   "source": [
    "def get_4cond_avgs(df, subtotal_col_headers, num_cols_per_subtotal):\n",
    "    assert len(subtotal_col_headers) == len(num_cols_per_subtotal)\n",
    "    untreated_avg_cols = []\n",
    "    off_avg_cols = []\n",
    "    on_avg_cols = []\n",
    "    maob_avg_cols = []\n",
    "    for col_idx in range(len(subtotal_col_headers)):\n",
    "        col = subtotal_col_headers[col_idx]\n",
    "        num_cols = num_cols_per_subtotal[col_idx]\n",
    "        df[col+'_avg_untreated'] = df[col+'_untreated']/float(num_cols)\n",
    "        df[col+'_avg_off'] = df[col+'_off']/float(num_cols)\n",
    "        df[col+'_avg_on'] = df[col+'_on']/float(num_cols)\n",
    "        df[col+'_avg_maob'] = df[col+'_maob']/float(num_cols)\n",
    "        untreated_avg_cols.append(col+'_avg_untreated')\n",
    "        off_avg_cols.append(col+'_avg_off')\n",
    "        on_avg_cols.append(col+'_avg_on')\n",
    "        maob_avg_cols.append(col+'_avg_maob')\n",
    "    first_col = subtotal_col_headers[0]\n",
    "    df['NUPDRS3_avgsum_untreated'] = np.where(pd.isnull(df[first_col+'_untreated']), float('NaN'), \\\n",
    "                                              df[untreated_avg_cols].sum(axis=1))\n",
    "    df['NUPDRS3_avgsum_off'] = np.where(pd.isnull(df[first_col+'_off']), float('NaN'), \\\n",
    "                                        df[off_avg_cols].sum(axis=1))\n",
    "    df['NUPDRS3_avgsum_on'] = np.where(pd.isnull(df[first_col+'_on']), float('NaN'), \\\n",
    "                                       df[on_avg_cols].sum(axis=1))\n",
    "    df['NUPDRS3_avgsum_maob'] = np.where(pd.isnull(df[first_col+'_maob']), float('NaN'), \\\n",
    "                                         df[maob_avg_cols].sum(axis=1))\n",
    "    return df"
   ]
  },
  {
   "cell_type": "code",
   "execution_count": null,
   "metadata": {},
   "outputs": [],
   "source": [
    "# part 3 average of averages\n",
    "subtotal_col_headers = ['NUPDRS_TREMOR', 'NUPDRS_RIGIDITY_LEFT', 'NUPDRS_RIGIDITY_RIGHT', 'NUPDRS_FACE', 'NUPDRS_GAIT']\n",
    "num_cols_per_subtotal = [len(tremor_cols), len(rigidity_left_cols), len(rigidity_right_cols), len(face_cols), \\\n",
    "                         len(gait_cols)]\n",
    "pd_questions_df = get_4cond_avgs(pd_questions_df, subtotal_col_headers, num_cols_per_subtotal)"
   ]
  },
  {
   "cell_type": "code",
   "execution_count": null,
   "metadata": {},
   "outputs": [],
   "source": [
    "make_plots_4treatment_cond(pd_questions_df, 'NUPDRS3_avgsum', selected_patnos)"
   ]
  },
  {
   "cell_type": "markdown",
   "metadata": {},
   "source": [
    "### Make plots so all features show up in a row for the same patient"
   ]
  },
  {
   "cell_type": "code",
   "execution_count": null,
   "metadata": {},
   "outputs": [],
   "source": [
    "pd_questions_df = pd_questions_df.merge(pd_total_df[['PATNO','EVENT_ID','NUPDRS3_untreated','NUPDRS3_on',\\\n",
    "                                                     'NUPDRS3_off','NUPDRS3_maob']], \\\n",
    "                                       on=['PATNO','EVENT_ID'], how='left', validate='one_to_one')"
   ]
  },
  {
   "cell_type": "code",
   "execution_count": null,
   "metadata": {},
   "outputs": [],
   "source": [
    "nupdrs_col_headers = ['NUPDRS_TREMOR', 'NUPDRS_RIGIDITY_LEFT', 'NUPDRS_RIGIDITY_RIGHT', 'NUPDRS_FACE', 'NUPDRS_GAIT', \\\n",
    "                      'NUPDRS_DAILYACT_DOPA', 'NUPDRS3']\n",
    "# 'NUPDRS3_avgsum'\n",
    "nupdrs_col_labels = ['Tremor', 'Rigidity left', 'Rigidity right', 'Face', 'Gait', 'Part II', 'Part III']\n",
    "nupdrs_col_maxs = [15, 20, 20, 12, 12, 27, 60]\n",
    "nupdrs_col_mins = [0, 0, 0, 0, 0, 0, 0]\n",
    "#'Part III avg sum'\n",
    "plt.rcParams.update({'font.size': 24})\n",
    "def make_mdsupdrs_plot(df, offset=0):\n",
    "    num_rows = 5\n",
    "    num_cols = len(nupdrs_col_headers)\n",
    "    fig, ax = plt.subplots(nrows=num_rows, ncols=num_cols, figsize=(4*num_cols, 4*num_rows))\n",
    "    #, sharex=True, sharey=True)\n",
    "    for row_idx in range(num_rows):\n",
    "        patno = selected_patnos[row_idx+offset]\n",
    "        patno_df = df.loc[df['PATNO']==patno]\n",
    "         \n",
    "        for col_idx in range(len(nupdrs_col_headers)):\n",
    "            col_header = nupdrs_col_headers[col_idx]\n",
    "            if col_header != 'NUPDRS_DAILYACT_DOPA':\n",
    "                patno_col_df = patno_df.dropna(subset=[col_header+'_untreated',col_header+'_off',col_header+'_on',\\\n",
    "                                               col_header+'_maob'], \\\n",
    "                                       how='all').sort_values(by=['EVENT_ID_DUR'])\n",
    "            else:\n",
    "                patno_col_df = patno_df.dropna(subset=[col_header+'_untreated',col_header+'_treated'], \\\n",
    "                                       how='all').sort_values(by=['EVENT_ID_DUR'])\n",
    "       \n",
    "            untreated_df = patno_col_df.dropna(subset=[col_header+'_untreated'])\n",
    "            untreated_times = untreated_df.EVENT_ID_DUR.values\n",
    "            untreated_values = untreated_df[col_header+'_untreated'].values\n",
    "            if len(untreated_times) > 0:\n",
    "                ax[row_idx, col_idx].scatter(untreated_times, untreated_values, c='b', label='untreated')\n",
    "                if len(untreated_times) > 1:\n",
    "                    untreated_linreg = LinearRegression().fit(untreated_times.reshape(-1,1), untreated_values)\n",
    "                    ax[row_idx, col_idx].plot(untreated_times, \\\n",
    "                                              untreated_linreg.predict(untreated_times.reshape(-1, 1)), 'b', \\\n",
    "                                              linewidth=4)\n",
    "            ax[row_idx, col_idx].set_title(nupdrs_col_labels[col_idx])\n",
    "            ax[row_idx, col_idx].set_ylim([nupdrs_col_mins[col_idx], nupdrs_col_maxs[col_idx]])\n",
    "            if col_header != 'NUPDRS_DAILYACT_DOPA':\n",
    "                off_df = patno_col_df.dropna(subset=[col_header+'_off'])\n",
    "                off_times = off_df.EVENT_ID_DUR.values\n",
    "                off_values = off_df[col_header+'_off'].values\n",
    "                if len(off_times) > 0:\n",
    "                    ax[row_idx, col_idx].scatter(off_times, off_values, c='g', label='\"off\" meds')\n",
    "                    if len(off_times) > 1:\n",
    "                        off_linreg = LinearRegression().fit(off_times.reshape(-1,1), off_values)\n",
    "                        ax[row_idx, col_idx].plot(off_times, off_linreg.predict(off_times.reshape(-1, 1)), 'g', \\\n",
    "                                                  linestyle='dashdot', linewidth=4)\n",
    "\n",
    "                on_df = patno_col_df.dropna(subset=[col_header+'_on'])\n",
    "                on_times = on_df.EVENT_ID_DUR.values\n",
    "                on_values = on_df[col_header+'_on'].values\n",
    "                if len(on_times) > 0:\n",
    "                    ax[row_idx, col_idx].scatter(on_times, on_values, c='r', label='\"on\" meds')\n",
    "                    if len(on_times) > 1:\n",
    "                        on_linreg = LinearRegression().fit(on_times.reshape(-1,1), on_values)\n",
    "                        ax[row_idx, col_idx].plot(on_times, on_linreg.predict(on_times.reshape(-1, 1)), 'r', \\\n",
    "                                                  linestyle='dotted', linewidth=4)\n",
    "\n",
    "                maob_df = patno_col_df.dropna(subset=[col_header+'_maob'])\n",
    "                maob_times = maob_df.EVENT_ID_DUR.values\n",
    "                maob_values = maob_df[col_header+'_maob'].values\n",
    "                if len(maob_times) > 0:\n",
    "                    ax[row_idx, col_idx].scatter(maob_times, maob_values, c='y', label='MAO-B')\n",
    "                    if len(maob_times) > 1:\n",
    "                        maob_linreg = LinearRegression().fit(maob_times.reshape(-1,1), maob_values)\n",
    "                        ax[row_idx, col_idx].plot(maob_times, maob_linreg.predict(maob_times.reshape(-1, 1)), 'y', \\\n",
    "                                                  linestyle='dashed', linewidth=4)\n",
    "            else:\n",
    "                treated_df = patno_col_df.dropna(subset=[col_header+'_treated'])\n",
    "                treated_times = treated_df.EVENT_ID_DUR.values\n",
    "                treated_values = treated_df[col_header+'_treated'].values\n",
    "                if len(treated_times) > 0:\n",
    "                    ax[row_idx, col_idx].scatter(treated_times, treated_values, c='r', label='treated')\n",
    "                    if len(treated_times) > 1:\n",
    "                        treated_linreg = LinearRegression().fit(treated_times.reshape(-1,1), treated_values)\n",
    "                        ax[row_idx, col_idx].plot(treated_times, \\\n",
    "                                                  treated_linreg.predict(treated_times.reshape(-1, 1)), 'r', \\\n",
    "                                                  linestyle='dotted', linewidth=4)\n",
    "    plt.tight_layout()\n",
    "    plt.legend()\n",
    "    plt.savefig('nupdrs_subtotals_linear_offset' + str(offset) + '_asof_2019Jul31.pdf')\n",
    "    plt.show()"
   ]
  },
  {
   "cell_type": "code",
   "execution_count": null,
   "metadata": {},
   "outputs": [],
   "source": [
    "make_mdsupdrs_plot(pd_questions_df)"
   ]
  },
  {
   "cell_type": "code",
   "execution_count": null,
   "metadata": {},
   "outputs": [],
   "source": [
    "make_mdsupdrs_plot(pd_questions_df, offset=5)"
   ]
  },
  {
   "cell_type": "markdown",
   "metadata": {},
   "source": [
    "### Plot tremor vs left rigidity untreated slopes"
   ]
  },
  {
   "cell_type": "code",
   "execution_count": null,
   "metadata": {},
   "outputs": [],
   "source": [
    "plt.rcParams.update({'font.size': 18})\n",
    "from scipy.stats import pearsonr\n",
    "untreated_slopes = np.empty((len(nupdrs_col_headers), pd_questions_df.PATNO.nunique()))\n",
    "on_slopes = np.empty((len(nupdrs_col_headers), pd_questions_df.PATNO.nunique()))\n",
    "off_slopes = np.empty((len(nupdrs_col_headers), pd_questions_df.PATNO.nunique()))\n",
    "maob_slopes = np.empty((len(nupdrs_col_headers), pd_questions_df.PATNO.nunique()))\n",
    "untreated_slopes_mask = np.zeros(untreated_slopes.shape) # 0 if slope not calculated, 1 if calculated\n",
    "on_slopes_mask = np.zeros(on_slopes.shape)\n",
    "off_slopes_mask = np.zeros(off_slopes.shape)\n",
    "maob_slopes_mask = np.zeros(maob_slopes.shape)\n",
    "patnos = pd_questions_df.PATNO.unique()\n",
    "for patno_idx in range(len(patnos)):\n",
    "    patno_df = pd_questions_df.loc[pd_questions_df['PATNO']==patnos[patno_idx]]\n",
    "    for col_idx in range(len(nupdrs_col_headers)):\n",
    "        col = nupdrs_col_headers[col_idx]\n",
    "        untreated_col_df = patno_df[['EVENT_ID_DUR', col + '_untreated']].dropna()\n",
    "        if len(untreated_col_df) >= 2:\n",
    "            untreated_times = untreated_col_df.EVENT_ID_DUR.values\n",
    "            untreated_feat_vals = untreated_col_df[col + '_untreated'].values\n",
    "            untreated_linreg = LinearRegression().fit(untreated_times.reshape(-1,1), untreated_feat_vals)\n",
    "            untreated_slopes[col_idx, patno_idx] = untreated_linreg.coef_[0]\n",
    "            untreated_slopes_mask[col_idx, patno_idx] = 1\n",
    "        if col == 'NUPDRS_DAILYACT_DOPA':\n",
    "            treated_col_df = patno_df[['EVENT_ID_DUR', col + '_treated']].dropna()\n",
    "            if len(treated_col_df) >= 2:\n",
    "                treated_times = treated_col_df.EVENT_ID_DUR.values\n",
    "                treated_feat_vals = treated_col_df[col + '_treated'].values\n",
    "                treated_linreg = LinearRegression().fit(treated_times.reshape(-1,1), treated_feat_vals)\n",
    "                on_slopes[col_idx, patno_idx] = treated_linreg.coef_[0]\n",
    "                off_slopes[col_idx, patno_idx] = treated_linreg.coef_[0]\n",
    "                maob_slopes[col_idx, patno_idx] = treated_linreg.coef_[0]\n",
    "                on_slopes_mask[col_idx, patno_idx] = 1\n",
    "                off_slopes_mask[col_idx, patno_idx] = 1\n",
    "                maob_slopes_mask[col_idx, patno_idx] = 1\n",
    "        else:\n",
    "            on_col_df = patno_df[['EVENT_ID_DUR', col + '_on']].dropna()\n",
    "            if len(on_col_df) >= 2:\n",
    "                on_times = on_col_df.EVENT_ID_DUR.values\n",
    "                on_feat_vals = on_col_df[col + '_on'].values\n",
    "                on_linreg = LinearRegression().fit(on_times.reshape(-1,1), on_feat_vals)\n",
    "                on_slopes[col_idx, patno_idx] = on_linreg.coef_[0]\n",
    "                on_slopes_mask[col_idx, patno_idx] = 1\n",
    "            off_col_df = patno_df[['EVENT_ID_DUR', col + '_off']].dropna()\n",
    "            if len(off_col_df) >= 2:\n",
    "                off_times = off_col_df.EVENT_ID_DUR.values\n",
    "                off_feat_vals = off_col_df[col + '_off'].values\n",
    "                off_linreg = LinearRegression().fit(off_times.reshape(-1,1), off_feat_vals)\n",
    "                off_slopes[col_idx, patno_idx] = off_linreg.coef_[0]\n",
    "                off_slopes_mask[col_idx, patno_idx] = 1\n",
    "            maob_col_df = patno_df[['EVENT_ID_DUR', col + '_maob']].dropna()\n",
    "            if len(maob_col_df) >= 2:\n",
    "                maob_times = maob_col_df.EVENT_ID_DUR.values\n",
    "                maob_feat_vals = maob_col_df[col + '_maob'].values\n",
    "                maob_linreg = LinearRegression().fit(maob_times.reshape(-1,1), maob_feat_vals)\n",
    "                maob_slopes[col_idx, patno_idx] = maob_linreg.coef_[0]\n",
    "                maob_slopes_mask[col_idx, patno_idx] = 1"
   ]
  },
  {
   "cell_type": "code",
   "execution_count": null,
   "metadata": {},
   "outputs": [],
   "source": [
    "print(untreated_slopes_mask.sum(axis=1))\n",
    "print(on_slopes_mask.sum(axis=1))\n",
    "print(off_slopes_mask.sum(axis=1))\n",
    "print(maob_slopes_mask.sum(axis=1))"
   ]
  },
  {
   "cell_type": "code",
   "execution_count": null,
   "metadata": {},
   "outputs": [],
   "source": [
    "untreated_slope_corrs = np.ones((len(nupdrs_col_headers), len(nupdrs_col_headers)))\n",
    "on_slope_corrs = np.ones((len(nupdrs_col_headers), len(nupdrs_col_headers)))\n",
    "off_slope_corrs = np.ones((len(nupdrs_col_headers), len(nupdrs_col_headers)))\n",
    "maob_slope_corrs = np.ones((len(nupdrs_col_headers), len(nupdrs_col_headers)))\n",
    "from scipy.stats import pearsonr\n",
    "for i in range(len(nupdrs_col_headers)-1):\n",
    "    for j in range(i+1,len(nupdrs_col_headers)):\n",
    "        untreated_slope_pairs = untreated_slopes[[i,j]]\n",
    "        untreated_slope_pairs = untreated_slope_pairs[:, np.nonzero(np.where(untreated_slopes_mask[i] \\\n",
    "                                                                        + untreated_slopes_mask[j] == 2, 1, 0))[0]]\n",
    "        corr, _ = pearsonr(untreated_slope_pairs[0], untreated_slope_pairs[1])\n",
    "        untreated_slope_corrs[i,j] = corr\n",
    "        untreated_slope_corrs[j,i] = corr\n",
    "        \n",
    "        on_slope_pairs = on_slopes[[i,j]]\n",
    "        on_slope_pairs = on_slope_pairs[:, np.nonzero(np.where(on_slopes_mask[i] + on_slopes_mask[j] == 2, 1, 0))[0]]\n",
    "        corr, _ = pearsonr(on_slope_pairs[0], on_slope_pairs[1])\n",
    "        on_slope_corrs[i,j] = corr\n",
    "        on_slope_corrs[j,i] = corr\n",
    "        \n",
    "        off_slope_pairs = off_slopes[[i,j]]\n",
    "        off_slope_pairs = off_slope_pairs[:, np.nonzero(np.where(off_slopes_mask[i] \\\n",
    "                                                                 + off_slopes_mask[j] == 2, 1, 0))[0]]\n",
    "        corr, _ = pearsonr(off_slope_pairs[0], off_slope_pairs[1])\n",
    "        off_slope_corrs[i,j] = corr\n",
    "        off_slope_corrs[j,i] = corr\n",
    "        \n",
    "        maob_slope_pairs = maob_slopes[[i,j]]\n",
    "        maob_slope_pairs = maob_slope_pairs[:, np.nonzero(np.where(maob_slopes_mask[i] \\\n",
    "                                                                   + maob_slopes_mask[j] == 2, 1, 0))[0]]\n",
    "        corr, _ = pearsonr(maob_slope_pairs[0], maob_slope_pairs[1])\n",
    "        maob_slope_corrs[i,j] = corr\n",
    "        maob_slope_corrs[j,i] = corr"
   ]
  },
  {
   "cell_type": "code",
   "execution_count": null,
   "metadata": {},
   "outputs": [],
   "source": [
    "untreated_corr_df = pd.DataFrame(untreated_slope_corrs, columns=nupdrs_col_headers)\n",
    "untreated_corr_df[''] = nupdrs_col_headers\n",
    "untreated_corr_df = untreated_corr_df.set_index('')"
   ]
  },
  {
   "cell_type": "code",
   "execution_count": null,
   "metadata": {},
   "outputs": [],
   "source": [
    "on_corr_df = pd.DataFrame(on_slope_corrs, columns=nupdrs_col_headers)\n",
    "on_corr_df[''] = nupdrs_col_headers\n",
    "on_corr_df = on_corr_df.set_index('')"
   ]
  },
  {
   "cell_type": "code",
   "execution_count": null,
   "metadata": {},
   "outputs": [],
   "source": [
    "off_corr_df = pd.DataFrame(off_slope_corrs, columns=nupdrs_col_headers)\n",
    "off_corr_df[''] = nupdrs_col_headers\n",
    "off_corr_df = off_corr_df.set_index('')"
   ]
  },
  {
   "cell_type": "code",
   "execution_count": null,
   "metadata": {},
   "outputs": [],
   "source": [
    "maob_corr_df = pd.DataFrame(maob_slope_corrs, columns=nupdrs_col_headers)\n",
    "maob_corr_df[''] = nupdrs_col_headers\n",
    "maob_corr_df = maob_corr_df.set_index('')"
   ]
  },
  {
   "cell_type": "code",
   "execution_count": null,
   "metadata": {},
   "outputs": [],
   "source": [
    "import seaborn as sns\n",
    "plt.rcParams.update({'font.size': 16})\n",
    "fig, ax = plt.subplots(figsize=(7,3))\n",
    "sns.heatmap(untreated_corr_df, vmin=0, vmax=1, ax=ax)\n",
    "ax.tick_params(labelbottom=False)\n",
    "fig.tight_layout()\n",
    "fig.savefig('untreated_slope_corr.pdf')\n",
    "fig.show()"
   ]
  },
  {
   "cell_type": "code",
   "execution_count": null,
   "metadata": {},
   "outputs": [],
   "source": [
    "fig, ax = plt.subplots(figsize=(7,3))\n",
    "sns.heatmap(on_corr_df, vmin=0, vmax=1, ax=ax)\n",
    "ax.tick_params(labelbottom=False)\n",
    "fig.tight_layout()\n",
    "fig.savefig('on_slope_corr.pdf')\n",
    "fig.show()"
   ]
  },
  {
   "cell_type": "code",
   "execution_count": null,
   "metadata": {},
   "outputs": [],
   "source": [
    "fig, ax = plt.subplots(figsize=(7,3))\n",
    "sns.heatmap(off_corr_df, vmin=0, vmax=1, ax=ax)\n",
    "ax.tick_params(labelbottom=False)\n",
    "fig.tight_layout()\n",
    "fig.savefig('off_slope_corr.pdf')\n",
    "fig.show()"
   ]
  },
  {
   "cell_type": "code",
   "execution_count": null,
   "metadata": {},
   "outputs": [],
   "source": [
    "fig, ax = plt.subplots(figsize=(7,6))\n",
    "sns.heatmap(maob_corr_df, vmin=0, vmax=1, ax=ax)\n",
    "#ax.tick_params(labelbottom=False)\n",
    "fig.tight_layout()\n",
    "fig.savefig('maob_slope_corr.pdf')\n",
    "fig.show()"
   ]
  },
  {
   "cell_type": "code",
   "execution_count": null,
   "metadata": {},
   "outputs": [],
   "source": [
    "untreated_signs_agree_freqs = np.ones((len(nupdrs_col_headers), len(nupdrs_col_headers)))\n",
    "on_signs_agree_freqs = np.ones((len(nupdrs_col_headers), len(nupdrs_col_headers)))\n",
    "off_signs_agree_freqs = np.ones((len(nupdrs_col_headers), len(nupdrs_col_headers)))\n",
    "maob_signs_agree_freqs = np.ones((len(nupdrs_col_headers), len(nupdrs_col_headers)))\n",
    "for i in range(len(nupdrs_col_headers)-1):\n",
    "    for j in range(i+1,len(nupdrs_col_headers)):\n",
    "        untreated_slope_pairs = untreated_slopes[[i,j]]\n",
    "        untreated_slope_pairs = untreated_slope_pairs[:, np.nonzero(np.where(untreated_slopes_mask[i] \\\n",
    "                                                                        + untreated_slopes_mask[j] == 2, 1, 0))[0]]\n",
    "        untreated_slope_sign_agreement = np.multiply(untreated_slope_pairs[0], untreated_slope_pairs[1])\n",
    "        untreated_agree_freq \\\n",
    "            = np.sum(np.where(untreated_slope_sign_agreement >= 0, 1, 0))/float(untreated_slope_pairs.shape[1])\n",
    "        untreated_signs_agree_freqs[i,j] = untreated_agree_freq\n",
    "        untreated_signs_agree_freqs[j, i] = untreated_agree_freq\n",
    "        \n",
    "        on_slope_pairs = on_slopes[[i,j]]\n",
    "        on_slope_pairs = on_slope_pairs[:, np.nonzero(np.where(on_slopes_mask[i] + on_slopes_mask[j] == 2, 1, 0))[0]]\n",
    "        on_slope_sign_agreement = np.multiply(on_slope_pairs[0], on_slope_pairs[1])\n",
    "        on_agree_freq = np.sum(np.where(on_slope_sign_agreement >= 0, 1, 0))/float(on_slope_pairs.shape[1])\n",
    "        on_signs_agree_freqs[i,j] = on_agree_freq\n",
    "        on_signs_agree_freqs[j, i] = on_agree_freq\n",
    "        \n",
    "        off_slope_pairs = off_slopes[[i,j]]\n",
    "        off_slope_pairs = off_slope_pairs[:, np.nonzero(np.where(off_slopes_mask[i] \\\n",
    "                                                                 + off_slopes_mask[j] == 2, 1, 0))[0]]\n",
    "        off_slope_sign_agreement = np.multiply(off_slope_pairs[0], off_slope_pairs[1])\n",
    "        off_agree_freq = np.sum(np.where(off_slope_sign_agreement >= 0, 1, 0))/float(off_slope_pairs.shape[1])\n",
    "        off_signs_agree_freqs[i,j] = off_agree_freq\n",
    "        off_signs_agree_freqs[j, i] = off_agree_freq\n",
    "        \n",
    "        maob_slope_pairs = maob_slopes[[i,j]]\n",
    "        maob_slope_pairs = maob_slope_pairs[:, np.nonzero(np.where(maob_slopes_mask[i] \\\n",
    "                                                                   + maob_slopes_mask[j] == 2, 1, 0))[0]]\n",
    "        maob_slope_sign_agreement = np.multiply(maob_slope_pairs[0], maob_slope_pairs[1])\n",
    "        maob_agree_freq = np.sum(np.where(maob_slope_sign_agreement >= 0, 1, 0))/float(maob_slope_pairs.shape[1])\n",
    "        maob_signs_agree_freqs[i,j] = maob_agree_freq\n",
    "        maob_signs_agree_freqs[j, i] = maob_agree_freq"
   ]
  },
  {
   "cell_type": "code",
   "execution_count": null,
   "metadata": {},
   "outputs": [],
   "source": [
    "untreated_signs_df = pd.DataFrame(untreated_signs_agree_freqs, columns=nupdrs_col_headers)\n",
    "untreated_signs_df[''] = nupdrs_col_headers\n",
    "untreated_signs_df = untreated_signs_df.set_index('')\n",
    "fig, ax = plt.subplots(figsize=(4,3))\n",
    "sns.heatmap(untreated_signs_df, vmin=0, vmax=1, ax=ax)\n",
    "ax.tick_params(labelbottom=False)\n",
    "ax.tick_params(labelleft=False)\n",
    "fig.tight_layout()\n",
    "fig.savefig('untreated_slope_signs.pdf')\n",
    "fig.show()"
   ]
  },
  {
   "cell_type": "code",
   "execution_count": null,
   "metadata": {},
   "outputs": [],
   "source": [
    "on_signs_df = pd.DataFrame(on_signs_agree_freqs, columns=nupdrs_col_headers)\n",
    "on_signs_df[''] = nupdrs_col_headers\n",
    "on_signs_df = on_signs_df.set_index('')\n",
    "fig, ax = plt.subplots(figsize=(4,3))\n",
    "sns.heatmap(on_signs_df, vmin=0, vmax=1, ax=ax)\n",
    "ax.tick_params(labelbottom=False)\n",
    "ax.tick_params(labelleft=False)\n",
    "fig.tight_layout()\n",
    "fig.savefig('on_slope_signs.pdf')\n",
    "fig.show()"
   ]
  },
  {
   "cell_type": "code",
   "execution_count": null,
   "metadata": {},
   "outputs": [],
   "source": [
    "off_signs_df = pd.DataFrame(off_signs_agree_freqs, columns=nupdrs_col_headers)\n",
    "off_signs_df[''] = nupdrs_col_headers\n",
    "off_signs_df = off_signs_df.set_index('')\n",
    "fig, ax = plt.subplots(figsize=(4,3))\n",
    "sns.heatmap(off_signs_df, vmin=0, vmax=1, ax=ax)\n",
    "ax.tick_params(labelbottom=False)\n",
    "ax.tick_params(labelleft=False)\n",
    "fig.tight_layout()\n",
    "fig.savefig('off_slope_signs.pdf')\n",
    "fig.show()"
   ]
  },
  {
   "cell_type": "code",
   "execution_count": null,
   "metadata": {},
   "outputs": [],
   "source": [
    "maob_signs_df = pd.DataFrame(maob_signs_agree_freqs, columns=nupdrs_col_headers)\n",
    "maob_signs_df[''] = nupdrs_col_headers\n",
    "maob_signs_df = maob_signs_df.set_index('')\n",
    "fig, ax = plt.subplots(figsize=(4,6))\n",
    "sns.heatmap(maob_signs_df, vmin=0, vmax=1, ax=ax)\n",
    "ax.tick_params(labelleft=False)\n",
    "fig.tight_layout()\n",
    "fig.savefig('maob_slope_signs.pdf')\n",
    "fig.show()"
   ]
  },
  {
   "cell_type": "code",
   "execution_count": null,
   "metadata": {},
   "outputs": [],
   "source": [
    "plt.rcParams.update({'font.size': 18})\n",
    "from scipy.stats import pearsonr\n",
    "def plot_untreated_slope_correlations(df, feat1, feat2, xlim=None, ylim=None):\n",
    "    untreated_feat1_slopes = []\n",
    "    untreated_feat2_slopes = []\n",
    "    for patno in df.PATNO.unique():\n",
    "        patno_df = df.loc[df['PATNO']==patno]\n",
    "        untreated_df = patno_df.dropna(subset=[feat1+'_untreated',feat2+'_untreated'])\n",
    "        if len(untreated_df) < 3:\n",
    "            continue\n",
    "        untreated_times = untreated_df.EVENT_ID_DUR.values\n",
    "        untreated_feat1_values = untreated_df[feat1+'_untreated'].values\n",
    "        untreated_feat2_values = untreated_df[feat2+'_untreated'].values\n",
    "        untreated_feat1_linreg = LinearRegression().fit(untreated_times.reshape(-1,1), untreated_feat1_values)\n",
    "        untreated_feat2_linreg = LinearRegression().fit(untreated_times.reshape(-1,1), untreated_feat2_values)\n",
    "        untreated_feat1_slopes.append(untreated_feat1_linreg.coef_[0])\n",
    "        untreated_feat2_slopes.append(untreated_feat2_linreg.coef_[0])\n",
    "    plt.scatter(np.array(untreated_feat1_slopes), np.array(untreated_feat2_slopes))\n",
    "    plt.xlabel(feat1 + ' slopes')\n",
    "    plt.ylabel(feat2 + ' slopes')\n",
    "    if xlim is not None:\n",
    "        plt.xlim(xlim)\n",
    "    if ylim is not None:\n",
    "        plt.ylim(ylim)\n",
    "    plt.show()\n",
    "    print(pearsonr(untreated_feat1_slopes, untreated_feat2_slopes))"
   ]
  },
  {
   "cell_type": "code",
   "execution_count": null,
   "metadata": {},
   "outputs": [],
   "source": [
    "plot_untreated_slope_correlations(pd_questions_df, 'NUPDRS_TREMOR', 'NUPDRS_RIGIDITY_LEFT', [-10,12], [-10,12])"
   ]
  },
  {
   "cell_type": "code",
   "execution_count": null,
   "metadata": {},
   "outputs": [],
   "source": [
    "plot_untreated_slope_correlations(pd_questions_df, 'NUPDRS_TREMOR', 'NUPDRS_RIGIDITY_RIGHT', [-10,12], [-10,15])"
   ]
  },
  {
   "cell_type": "code",
   "execution_count": null,
   "metadata": {},
   "outputs": [],
   "source": [
    "plot_untreated_slope_correlations(pd_questions_df, 'NUPDRS_RIGIDITY_LEFT', 'NUPDRS_RIGIDITY_RIGHT', [-10,12], [-10,15])"
   ]
  },
  {
   "cell_type": "code",
   "execution_count": null,
   "metadata": {},
   "outputs": [],
   "source": [
    "plot_untreated_slope_correlations(pd_questions_df, 'NUPDRS_TREMOR', 'NUPDRS_GAIT', [-10,12], [-5,5])"
   ]
  },
  {
   "cell_type": "code",
   "execution_count": null,
   "metadata": {},
   "outputs": [],
   "source": [
    "plot_untreated_slope_correlations(pd_questions_df, 'NUPDRS_RIGIDITY_LEFT', 'NUPDRS_GAIT', [-10,12], [-5,5])"
   ]
  },
  {
   "cell_type": "code",
   "execution_count": null,
   "metadata": {},
   "outputs": [],
   "source": [
    "plot_untreated_slope_correlations(pd_questions_df, 'NUPDRS_RIGIDITY_RIGHT', 'NUPDRS_GAIT', [-10,15], [-5,5])"
   ]
  },
  {
   "cell_type": "code",
   "execution_count": null,
   "metadata": {},
   "outputs": [],
   "source": [
    "feats = np.array(['GAIT','RIGIDITY_LEFT','RIGIDITY_RIGHT','TREMOR'])\n",
    "corrs = np.array([[1,0.338,0.351,0.158],[0.338,1,0.443,0.096],[0.351,0.443,1,0.102],[0.158,0.096,0.102,1]])\n",
    "corr_df = pd.DataFrame(corrs, columns=feats.tolist())\n",
    "corr_df['Feat'] = feats\n",
    "corr_df = corr_df.set_index('Feat')\n",
    "display(corr_df)"
   ]
  },
  {
   "cell_type": "code",
   "execution_count": null,
   "metadata": {},
   "outputs": [],
   "source": [
    "import seaborn as sns\n",
    "sns.heatmap(corr_df, vmin=0, vmax=1)"
   ]
  },
  {
   "cell_type": "markdown",
   "metadata": {},
   "source": [
    "### Make plots without linear regression"
   ]
  },
  {
   "cell_type": "code",
   "execution_count": null,
   "metadata": {},
   "outputs": [],
   "source": [
    "datadir = '../../../datasets/ppmi/visit_feature_inputs_asof_2019Jan24_using_CMEDTM/'\n",
    "pd_questions_df = pd.read_csv(datadir + 'PD_questions_across_time.csv')\n",
    "pd_totals_df = pd.read_csv(datadir + 'PD_totals_across_time.csv')"
   ]
  },
  {
   "cell_type": "code",
   "execution_count": null,
   "metadata": {},
   "outputs": [],
   "source": [
    "subtotal_maps = {'NUPDRS3_TREMOR': ['NP3RTALL', 'NP3RTALU', 'NP3KTRML', 'NP3PTRML', 'NP3KTRMR', 'NP3PTRMR', 'NP3RTARU', \\\n",
    "                                    'NP3RTALJ', 'NP3RTARL', 'NP2TRMR', 'NP3RTCON'], \\\n",
    "                 'NUPDRS3_RIGID_LEFT': ['NP3RIGLU', 'NP3RIGLL', 'NP3PRSPL', 'NP3FTAPL', 'NP3HMOVL', 'NP3LGAGL', \\\n",
    "                                        'NP3TTAPL'], \\\n",
    "                 'NUPDRS3_RIGID_RIGHT': ['NP3RIGRL', 'NP3RIGRU', 'NP3PRSPR', 'NP3FTAPR', 'NP3HMOVR', 'NP3LGAGR', \\\n",
    "                                         'NP3TTAPR'], \\\n",
    "                 'NUPDRS3_FACE': ['NP3SPCH', 'NP3RIGN', 'NP3BRADY', 'NP3FACXP'], \\\n",
    "                 'NUPDRS3_GAIT': ['NP3FRZGT', 'NP3PSTBL', 'NP3RISNG', 'NP3GAIT', 'NP3POSTR'], \\\n",
    "                 'NUPDRS2_DAILYACT': ['NP2HWRT', 'NP2FREZ', 'NP2HYGN', 'NP2EAT', 'NP2HOBB', 'NP2WALK', 'NP2DRES', \\\n",
    "                                      'NP2RISE', 'NP2TURN', 'NP2SWAL', 'NP2SALV', 'NP2SPCH']\n",
    "                }\n",
    "for col in pd_questions_df.columns:\n",
    "    if col.startswith('NP2'):\n",
    "        pd_questions_df[col + '_untreated'] = np.where(~pd.isnull(pd_questions_df['NP3RTALL_untreated']), \\\n",
    "                                                       pd_questions_df[col], float('NaN'))\n",
    "        pd_questions_df[col + '_treated'] \\\n",
    "            = np.where(np.logical_or.reduce((~pd.isnull(pd_questions_df['NP3RTALL_on']), \\\n",
    "                                             ~pd.isnull(pd_questions_df['NP3RTALL_off']), \\\n",
    "                                             ~pd.isnull(pd_questions_df['NP3RTALL_maob']))), \\\n",
    "                       pd_questions_df[col], float('NaN'))\n",
    "for subtotal in subtotal_maps.keys():\n",
    "    untreated_components = [col + '_untreated' for col in subtotal_maps[subtotal]]\n",
    "    pd_questions_df[subtotal+'_untreated'] \\\n",
    "        = np.where(np.logical_and.reduce([~pd.isnull(pd_questions_df[component]) \\\n",
    "                                          for component in untreated_components]), \\\n",
    "                   pd_questions_df[untreated_components].sum(axis=1), float('NaN'))\n",
    "    if subtotal == 'NUPDRS2_DAILYACT':\n",
    "        treated_components = [col + '_treated' for col in subtotal_maps[subtotal]]\n",
    "        pd_questions_df[subtotal+'_treated'] \\\n",
    "            = np.where(np.logical_and.reduce([~pd.isnull(pd_questions_df[component]) \\\n",
    "                                          for component in treated_components]), \\\n",
    "                       pd_questions_df[treated_components].sum(axis=1), float('NaN'))\n",
    "    else:\n",
    "        off_components = []\n",
    "        on_components = []\n",
    "        maob_components = []\n",
    "        for col in subtotal_maps[subtotal]:\n",
    "            if col.startswith('NP2'):\n",
    "                off_components.append(col + '_treated')\n",
    "                on_components.append(col + '_treated')\n",
    "                maob_components.append(col + '_treated')\n",
    "            else:\n",
    "                off_components.append(col + '_off')\n",
    "                on_components.append(col + '_on')\n",
    "                maob_components.append(col + '_maob')\n",
    "        pd_questions_df[subtotal+'_off'] \\\n",
    "            = np.where(np.logical_and.reduce([~pd.isnull(pd_questions_df[component]) \\\n",
    "                                          for component in off_components]), \\\n",
    "                       pd_questions_df[off_components].sum(axis=1), float('NaN'))\n",
    "        pd_questions_df[subtotal+'_on'] \\\n",
    "            = np.where(np.logical_and.reduce([~pd.isnull(pd_questions_df[component]) \\\n",
    "                                          for component in on_components]), \\\n",
    "                       pd_questions_df[on_components].sum(axis=1), float('NaN'))\n",
    "        pd_questions_df[subtotal+'_maob'] \\\n",
    "            = np.where(np.logical_and.reduce([~pd.isnull(pd_questions_df[component]) \\\n",
    "                                          for component in maob_components]), \\\n",
    "                       pd_questions_df[maob_components].sum(axis=1), float('NaN'))\n",
    "pd_questions_df = pd_questions_df.merge(pd_totals_df[['PATNO','EVENT_ID_DUR','NUPDRS3_untreated', \\\n",
    "                                                      'NUPDRS3_on','NUPDRS3_off','NUPDRS3_maob']], \\\n",
    "                                        on=['PATNO','EVENT_ID_DUR'], how='outer', validate='one_to_one')\n",
    "'''\n",
    "pd_questions_df['NUPDRS2_untreated'] = np.where(~pd.isnull(pd_questions_df['NUPDRS3_untreated']), \\\n",
    "                                                pd_questions_df['NUPDRS2'], float('NaN'))\n",
    "pd_questions_df['NUPDRS2_treated'] = np.where(np.logical_or.reduce(~pd.isnull(pd_questions_df['NUPDRS3_on']), \\\n",
    "                                                                   ~pd.isnull(pd_questions_df['NUPDRS3_off']), \\\n",
    "                                                                   ~pd.isnull(pd_questions_df['NUPDRS3_maob'])), \\\n",
    "                                              pd_questions_df['NUPDRS2'], float('NaN'))\n",
    "'''"
   ]
  },
  {
   "cell_type": "code",
   "execution_count": null,
   "metadata": {},
   "outputs": [],
   "source": [
    "nupdrs_col_headers = ['NUPDRS3_TREMOR', 'NUPDRS3_RIGID_LEFT', 'NUPDRS3_RIGID_RIGHT', 'NUPDRS3_FACE', \\\n",
    "                      'NUPDRS3_GAIT', 'NUPDRS2_DAILYACT', 'NUPDRS3']\n",
    "nupdrs_col_labels = ['Tremor', 'Rigidity left', 'Rigidity right', 'Face', 'Gait', 'Daily activities', 'Part III']\n",
    "plt.rcParams.update({'font.size': 22})\n",
    "def make_mdsupdrs_plot(df, offset=0):\n",
    "    num_rows = 5\n",
    "    num_cols = len(nupdrs_col_headers)\n",
    "    fig, ax = plt.subplots(nrows=num_rows, ncols=num_cols, figsize=(4*num_cols, 4*num_rows))\n",
    "    col_mins = [float('inf') for idx in range(len(nupdrs_col_labels))]\n",
    "    col_maxs = [0 for idx in range(len(nupdrs_col_labels))]\n",
    "    for row_idx in range(num_rows):\n",
    "        patno = selected_patnos[row_idx+offset]\n",
    "        patno_df = df.loc[df['PATNO']==patno]\n",
    "        for col_idx in range(len(nupdrs_col_headers)):\n",
    "            col_header = nupdrs_col_headers[col_idx]\n",
    "            if col_header != 'NUPDRS2_DAILYACT':\n",
    "                patno_col_df = patno_df.dropna(subset=[col_header+'_untreated',col_header+'_off',col_header+'_on',\\\n",
    "                                               col_header+'_maob'], \\\n",
    "                                       how='all').sort_values(by=['EVENT_ID_DUR'])\n",
    "            else:\n",
    "                patno_col_df = patno_df.dropna(subset=[col_header+'_untreated',col_header+'_treated'], \\\n",
    "                                       how='all').sort_values(by=['EVENT_ID_DUR'])\n",
    "       \n",
    "            untreated_df = patno_col_df.dropna(subset=[col_header+'_untreated'])\n",
    "            untreated_times = untreated_df.EVENT_ID_DUR.values\n",
    "            untreated_values = untreated_df[col_header+'_untreated'].values\n",
    "            if len(untreated_times) > 0:\n",
    "                ax[row_idx, col_idx].plot(untreated_times, untreated_values, c='b', label='untreated', linewidth=4)\n",
    "                if np.max(untreated_values) > col_maxs[col_idx]:\n",
    "                    col_maxs[col_idx] = np.max(untreated_values)\n",
    "                if np.min(untreated_values) < col_mins[col_idx]:\n",
    "                    col_mins[col_idx] = np.min(untreated_values)\n",
    "            ax[row_idx, col_idx].set_title(nupdrs_col_labels[col_idx])\n",
    "            if col_header != 'NUPDRS2_DAILYACT':\n",
    "                off_df = patno_col_df.dropna(subset=[col_header+'_off'])\n",
    "                off_times = off_df.EVENT_ID_DUR.values\n",
    "                off_values = off_df[col_header+'_off'].values\n",
    "                if len(off_times) > 0:\n",
    "                    ax[row_idx, col_idx].plot(off_times, off_values, c='g', label='\"off\" meds', linestyle='dashdot', \\\n",
    "                                              linewidth=4)\n",
    "                    if np.max(off_values) > col_maxs[col_idx]:\n",
    "                        col_maxs[col_idx] = np.max(off_values)\n",
    "                    if np.min(off_values) < col_mins[col_idx]:\n",
    "                        col_mins[col_idx] = np.min(off_values)\n",
    "                on_df = patno_col_df.dropna(subset=[col_header+'_on'])\n",
    "                on_times = on_df.EVENT_ID_DUR.values\n",
    "                on_values = on_df[col_header+'_on'].values\n",
    "                if len(on_times) > 0:\n",
    "                    ax[row_idx, col_idx].plot(on_times, on_values, c='r', label='\"on\" meds', linestyle='dotted', \\\n",
    "                                              linewidth=4)\n",
    "                    if np.max(on_values) > col_maxs[col_idx]:\n",
    "                        col_maxs[col_idx] = np.max(on_values)\n",
    "                    if np.min(on_values) < col_mins[col_idx]:\n",
    "                        col_mins[col_idx] = np.min(on_values)\n",
    "                maob_df = patno_col_df.dropna(subset=[col_header+'_maob'])\n",
    "                maob_times = maob_df.EVENT_ID_DUR.values\n",
    "                maob_values = maob_df[col_header+'_maob'].values\n",
    "                if len(maob_times) > 0:\n",
    "                    ax[row_idx, col_idx].plot(maob_times, maob_values, c='y', label='MAO-B', linestyle='dashed', \\\n",
    "                                              linewidth=4)\n",
    "                    if np.max(maob_values) > col_maxs[col_idx]:\n",
    "                        col_maxs[col_idx] = np.max(maob_values)\n",
    "                    if np.min(maob_values) < col_mins[col_idx]:\n",
    "                        col_mins[col_idx] = np.min(maob_values)\n",
    "            else:\n",
    "                treated_df = patno_col_df.dropna(subset=[col_header+'_treated'])\n",
    "                treated_times = treated_df.EVENT_ID_DUR.values\n",
    "                treated_values = treated_df[col_header+'_treated'].values\n",
    "                if len(treated_times) > 0:\n",
    "                    ax[row_idx, col_idx].plot(treated_times, treated_values, c='r', label='treated', \\\n",
    "                                              linestyle='dotted', linewidth=4)\n",
    "                    if np.max(treated_values) > col_maxs[col_idx]:\n",
    "                        col_maxs[col_idx] = np.max(treated_values)\n",
    "                    if np.min(treated_values) < col_mins[col_idx]:\n",
    "                        col_mins[col_idx] = np.min(treated_values)\n",
    "    for row_idx in range(num_rows):\n",
    "        for col_idx in range(len(col_mins)):\n",
    "            ax[row_idx,col_idx].set_ylim([col_mins[col_idx]-1,col_maxs[col_idx]+1])\n",
    "    plt.tight_layout()\n",
    "    plt.legend()\n",
    "    plt.savefig('mdsupdrs_5patnos.pdf')\n",
    "    plt.show()"
   ]
  },
  {
   "cell_type": "code",
   "execution_count": null,
   "metadata": {},
   "outputs": [],
   "source": [
    "make_mdsupdrs_plot(pd_questions_df)"
   ]
  },
  {
   "cell_type": "code",
   "execution_count": null,
   "metadata": {},
   "outputs": [],
   "source": [
    "make_mdsupdrs_plot(pd_questions_df, offset=5)"
   ]
  },
  {
   "cell_type": "code",
   "execution_count": null,
   "metadata": {},
   "outputs": [],
   "source": []
  }
 ],
 "metadata": {
  "kernelspec": {
   "display_name": "Python 2",
   "language": "python",
   "name": "python2"
  },
  "language_info": {
   "codemirror_mode": {
    "name": "ipython",
    "version": 2
   },
   "file_extension": ".py",
   "mimetype": "text/x-python",
   "name": "python",
   "nbconvert_exporter": "python",
   "pygments_lexer": "ipython2",
   "version": "2.7.15"
  }
 },
 "nbformat": 4,
 "nbformat_minor": 2
}
