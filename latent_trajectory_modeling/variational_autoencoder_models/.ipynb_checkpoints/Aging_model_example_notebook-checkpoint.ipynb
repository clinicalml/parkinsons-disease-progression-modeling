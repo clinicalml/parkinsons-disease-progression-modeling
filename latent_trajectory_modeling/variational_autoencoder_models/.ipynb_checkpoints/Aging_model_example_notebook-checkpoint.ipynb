{
 "cells": [
  {
   "cell_type": "code",
   "execution_count": 2,
   "metadata": {},
   "outputs": [
    {
     "name": "stdout",
     "output_type": "stream",
     "text": [
      "The autoreload extension is already loaded. To reload it, use:\n",
      "  %reload_ext autoreload\n"
     ]
    }
   ],
   "source": [
    "%matplotlib inline\n",
    "%load_ext autoreload\n",
    "%autoreload 2\n",
    "\n",
    "import sys, os\n",
    "import numpy as np\n",
    "import pandas as pd\n",
    "import matplotlib.pyplot as plt\n",
    "import seaborn as sns\n",
    "\n",
    "from scipy.stats import pearsonr\n",
    "from scipy.special import expit\n",
    "\n",
    "import variational_rate_of_aging_monotonic_autoencoder\n",
    "import variational_autoencoder\n",
    "import variational_longitudinal_monotonic_rate_of_aging_autoencoder"
   ]
  },
  {
   "cell_type": "code",
   "execution_count": 3,
   "metadata": {
    "collapsed": true
   },
   "outputs": [],
   "source": [
    "sys.path.append(\"../\")\n",
    "from DataLoaders.PPMI_loader import PPMI_loader\n",
    "from Evaluation.RankingEvaluator import RankingEvaluator\n",
    "from PostLatentModels.CorrelationCalculator import CorrelationCalculator\n",
    "from Evaluation.MeanSquaredErrorEvaluator import MeanSquaredErrorEvaluator\n",
    "from util_aging import *\n",
    "from Util.visualizer import *"
   ]
  },
  {
   "cell_type": "code",
   "execution_count": 4,
   "metadata": {
    "collapsed": true
   },
   "outputs": [],
   "source": [
    "data_loader = PPMI_loader(\"../../PD_questions.csv\")  # change to path to file PD_questions.csv"
   ]
  },
  {
   "cell_type": "code",
   "execution_count": 14,
   "metadata": {},
   "outputs": [],
   "source": [
    "# ####### most basic option, return dictionary of both df in aging format and normal format\n",
    "# data_dict = data_loader.extended_get_train_valid_test_split(train_valid_test_split=[70,10,20],\n",
    "#                                                 aging_format=True)\n",
    "\n",
    "\n",
    "####### sample data using linear interpolation of each score\n",
    "data_dict = data_loader.extended_get_train_valid_test_split(train_valid_test_split=[70,10,20],\n",
    "                                                aging_format=True,\n",
    "                                                fill_train_with_sample=50000)\n",
    "\n",
    "\n",
    "# ####### longitudinal data\n",
    "# data_dict = data_loader.extended_get_train_valid_test_split(train_valid_test_split=[70,10,20],\n",
    "#                                                 aging_format=True,\n",
    "#                                                 fill_train_with_sample=50000,\n",
    "#                                                 longitudinal=True,\n",
    "#                                                 longitudinal_length=10)\n",
    "\n",
    "\n",
    "# ####### sampled + longitudinal + 5-fold cross validation  # list of data_dict\n",
    "# data_dicts = data_loader.extended_get_train_valid_test_split(train_valid_test_split=[70,10,20],\n",
    "#                                                 aging_format=True,\n",
    "#                                                 fill_train_with_sample=50000,\n",
    "#                                                 longitudinal=True,\n",
    "#                                                 longitudinal_length=20,\n",
    "#                                                 fold=5,\n",
    "#                                                 valid_ratio=0.1)"
   ]
  },
  {
   "cell_type": "code",
   "execution_count": 20,
   "metadata": {
    "collapsed": true
   },
   "outputs": [
    {
     "name": "stdout",
     "output_type": "stream",
     "text": [
      "Model random seed is 7235\n",
      "initialization scaling is 0.100\n",
      "Weight constraint method is take_absolute_value\n",
      "Fitting model using method VariationalRateOfAgingMonotonicAutoencoder.\n",
      "Train size 51468; valid size 233\n",
      "Setting aging rate scaling factor to 0.100\n",
      "Added encoder layer for Z_age with input dimension 47 and output dimension 20\n",
      "Added encoder layer for Z_age with input dimension 20 and output dimension 1\n",
      "Added encoder layer for residual with input dimension 47 and output dimension 20\n",
      "Added encoder layer for residual with input dimension 20 and output dimension 0\n",
      "Added decoder layer for Z_age with input dimension 1 and output dimension 46\n",
      "Added decoder layer for residual with input dimension 0 and output dimension 46\n",
      "Deleting weight layer decoder_Z_age_h0 because unnecessary for monotonic autoencoder\n",
      "Deleting bias layer decoder_Z_age_b0 because unnecessary for monotonic autoencoder\n",
      "Adding monotonic linear layer with input dimension 1 and output dimension 46\n",
      "Adding nonlinearity post_linear_layer\n",
      "Epoch 0:\n",
      "Train: mean loss 49.460 (0.000 + 49.417 + 1.000 * 0.044).  Valid: mean loss 52.819 (0.000 + 52.781 + 1.000 * 0.038)\n",
      "Continuous variance is 0.506\n",
      "Epoch 10:\n",
      "Train: mean loss 49.438 (0.000 + 49.357 + 1.000 * 0.081).  Valid: mean loss 52.901 (0.000 + 52.841 + 1.000 * 0.060)\n",
      "Continuous variance is 0.504\n",
      "Warning! valid loss not decreasing this epoch\n",
      "Epoch 20:\n",
      "Train: mean loss 49.433 (0.000 + 49.336 + 1.000 * 0.097).  Valid: mean loss 52.881 (0.000 + 52.826 + 1.000 * 0.055)\n",
      "Continuous variance is 0.515\n",
      "Warning! valid loss not decreasing this epoch\n",
      "Epoch 30:\n",
      "Train: mean loss 49.402 (0.000 + 49.296 + 1.000 * 0.106).  Valid: mean loss 53.095 (0.000 + 53.041 + 1.000 * 0.054)\n",
      "Continuous variance is 0.501\n",
      "Warning! valid loss not decreasing this epoch\n",
      "Epoch 40:\n",
      "Train: mean loss 49.380 (0.000 + 49.260 + 1.000 * 0.120).  Valid: mean loss 52.920 (0.000 + 52.846 + 1.000 * 0.075)\n",
      "Continuous variance is 0.499\n",
      "Warning! valid loss not decreasing this epoch\n",
      "Epoch 50:\n",
      "Train: mean loss 49.406 (0.000 + 49.294 + 1.000 * 0.111).  Valid: mean loss 52.898 (0.000 + 52.814 + 1.000 * 0.084)\n",
      "Continuous variance is 0.503\n",
      "Warning! valid loss not decreasing this epoch\n",
      "Epoch 59:\n",
      "Train: mean loss 49.401 (0.000 + 49.281 + 1.000 * 0.120).  Valid: mean loss 52.884 (0.000 + 52.810 + 1.000 * 0.074)\n",
      "Continuous variance is 0.493\n",
      "Warning! valid loss not decreasing this epoch\n"
     ]
    }
   ],
   "source": [
    "# ######### vae model\n",
    "# model = variational_autoencoder.VariationalAutoencoder(\n",
    "#             encoder_layer_sizes=[20,10,1], \n",
    "#             decoder_layer_sizes=[10],\n",
    "#             max_epochs=100,\n",
    "#             random_seed=np.random.choice(range(10000)),)\n",
    "# model.fit(data_dict[\"aging_train_df\"], data_dict[\"aging_val_df\"], verbose=False)\n",
    "\n",
    "\n",
    "# ######### Aging cross sectional\n",
    "model = variational_rate_of_aging_monotonic_autoencoder.VariationalRateOfAgingMonotonicAutoencoder(\n",
    "                    encoder_layer_sizes=[20,1], \n",
    "                    decoder_layer_sizes=[], \n",
    "                    learn_continuous_variance=True,\n",
    "                    non_linearity='relu',\n",
    "                    k_age=1, \n",
    "                    max_epochs=60, \n",
    "                    learning_rate=0.01,\n",
    "                    preset_aging_rate_scaling_factor=0.1,\n",
    "                    polynomial_powers_to_fit = [0.2, 0.5, 1, 2, 3],\n",
    "                    random_seed=np.random.choice(range(10000)))\n",
    "model.fit(data_dict[\"aging_train_df\"], data_dict[\"aging_val_df\"], verbose=False)\n",
    "\n",
    "\n",
    "# ######### Aging Longitudinal  # data_dict must be generated with longitudinal option\n",
    "\n",
    "# model= variational_longitudinal_monotonic_rate_of_aging_autoencoder.VariationalLongitudinalMonotonicRateOfAgingAutoencoder(\n",
    "#                         encoder_layer_sizes=[20,10,1], \n",
    "#                         decoder_layer_sizes=[], \n",
    "#                         learn_continuous_variance=True,\n",
    "#                         non_linearity='relu',\n",
    "#                         k_age=1, \n",
    "#                         max_epochs=70, \n",
    "#                         learning_rate=0.01,\n",
    "#                         preset_aging_rate_scaling_factor=0.1,\n",
    "#                         polynomial_powers_to_fit = [0.2, 0.5, 1, 2, 3],\n",
    "#                         random_seed=np.random.choice(range(10000)))\n",
    "\n",
    "# model.fit(data_dict[\"aging_train_df\"], data_dict[\"aging_val_df\"], \n",
    "#                    train_lon_df0=data_dict[\"aging_train_lon_df0\"],\n",
    "#                    train_lon_df1=data_dict[\"aging_train_lon_df1\"],\n",
    "#                    verbose=False)"
   ]
  },
  {
   "cell_type": "code",
   "execution_count": 29,
   "metadata": {
    "scrolled": true
   },
   "outputs": [
    {
     "name": "stdout",
     "output_type": "stream",
     "text": [
      "(258, 60) (258,) (40, 60) (40,)\n",
      "0.1 [[0.         0.         0.         0.         0.         0.\n",
      "  0.         0.         0.         0.         0.         0.\n",
      "  0.         0.         0.         0.         0.         0.\n",
      "  0.         0.         0.         0.         0.         0.\n",
      "  0.         0.         0.         0.         0.         0.\n",
      "  0.         0.         0.         0.         0.         0.\n",
      "  0.         0.         0.         0.         0.         0.\n",
      "  0.         0.         0.         0.         0.         0.\n",
      "  0.         0.         0.         0.         0.         0.\n",
      "  0.         0.         0.         0.         1.22320428 0.        ]]\n",
      "0.5 [[ 5.67290004e-02  0.00000000e+00  0.00000000e+00  0.00000000e+00\n",
      "   0.00000000e+00  0.00000000e+00 -1.12561572e-01  0.00000000e+00\n",
      "   0.00000000e+00  0.00000000e+00  0.00000000e+00  0.00000000e+00\n",
      "   0.00000000e+00  0.00000000e+00  0.00000000e+00  0.00000000e+00\n",
      "   0.00000000e+00  0.00000000e+00  0.00000000e+00  0.00000000e+00\n",
      "   0.00000000e+00  0.00000000e+00  0.00000000e+00  0.00000000e+00\n",
      "   0.00000000e+00  0.00000000e+00 -7.14452469e-01  0.00000000e+00\n",
      "   0.00000000e+00  0.00000000e+00  0.00000000e+00  0.00000000e+00\n",
      "   0.00000000e+00  0.00000000e+00  0.00000000e+00  0.00000000e+00\n",
      "   0.00000000e+00  0.00000000e+00  0.00000000e+00  0.00000000e+00\n",
      "  -9.38572669e-02 -2.76343927e-01  0.00000000e+00  0.00000000e+00\n",
      "   0.00000000e+00  0.00000000e+00  0.00000000e+00  0.00000000e+00\n",
      "   0.00000000e+00  0.00000000e+00  2.81206902e-03  0.00000000e+00\n",
      "   0.00000000e+00  0.00000000e+00  0.00000000e+00 -1.16936847e-01\n",
      "   0.00000000e+00  2.61235440e+00  6.56038841e+00  0.00000000e+00]]\n",
      "1 [[ 0.1156293   0.          0.         -0.33861975  0.          0.\n",
      "  -1.18363049 -0.11145014  0.          0.75675282  0.09552866  0.\n",
      "   0.         -0.44090621 -0.03618847  0.          0.          0.\n",
      "   0.          0.          0.          0.         -0.14066152  0.\n",
      "   0.          0.         -1.26306517  0.          0.          0.\n",
      "   0.         -0.24965841  0.          0.          0.26665068  0.\n",
      "   0.          0.          0.          0.         -0.14288466 -0.91192841\n",
      "   0.          0.          0.          0.          0.          0.22761597\n",
      "   0.          0.04916072  0.07505803  0.          0.          0.\n",
      "   0.         -0.24084234  0.          3.35076435  8.36284314  0.1656789 ]]\n",
      "5 [[ 0.0385803   0.          0.27192781 -3.26240432 -0.27166765 -0.25433471\n",
      "  -1.82138673 -0.27340731  0.          3.01367708  0.76478255  0.\n",
      "  -0.44429532 -1.24133411 -0.34634605 -0.01508154  0.04751384  0.88075938\n",
      "  -0.08045603  0.         -0.8509178  -0.13380404 -1.94930091  0.84936503\n",
      "   1.09808814  1.61383254 -2.12749087  0.          0.94945635 -2.94633325\n",
      "   0.         -0.86043019  0.34628129  0.          2.36713511 -1.32287459\n",
      "   0.          0.          0.          0.         -0.28944727 -2.32178985\n",
      "   0.         -0.17632021  0.         -1.79521712 -0.73168064  2.00846492\n",
      "   0.          0.33042597  0.59233812 -1.38242326  0.43986119 -0.63464035\n",
      "   1.40078012 -0.27888475 -1.27644909  5.30344117 13.64042151  1.70263103]]\n",
      "10 [[ 0.07886303  0.08221283  0.37969429 -4.12556204 -0.31491807 -0.59343663\n",
      "  -1.89238945 -0.26273913 -0.07027958  3.58015013  0.91904856 -0.13519211\n",
      "  -0.65410935 -1.43116766 -0.48868227 -0.10563916  0.04319234  1.10477123\n",
      "  -0.13665143  0.         -1.44043446 -0.24085965 -2.45103311  1.41457225\n",
      "   1.41624521  2.64775678 -2.21357166  0.13020827  1.60306447 -4.47074592\n",
      "  -0.25289568 -0.92174749  0.43619265  0.05708296  3.21705363 -2.10071519\n",
      "  -0.31928516  0.          0.09264881  0.         -0.43242082 -2.68281337\n",
      "   0.16490434 -0.2934237   0.         -2.23021084 -1.13869542  2.45832156\n",
      "  -0.02187928  0.38413282  0.7545258  -1.78966282  0.5756926  -0.97419387\n",
      "   1.91055903 -0.33398371 -1.67401894  6.08593358 15.30063887  2.1253538 ]]\n",
      "20 [[ 0.08088728  0.17118363  0.44815348 -4.68022182 -0.34928815 -0.78576815\n",
      "  -1.89561007 -0.24364699 -0.15608993  3.93661175  1.03531679 -0.27015688\n",
      "  -0.83786392 -1.57225193 -0.5854146  -0.110654    0.04669386  1.35516938\n",
      "  -0.17460112 -0.12668663 -1.76606343 -0.30729937 -2.78782199  1.69612358\n",
      "   1.77878345  3.29679158 -3.00159592  1.28816228  1.80356701 -6.00583982\n",
      "  -0.33017416 -1.5251677   0.22125566  0.43532586  3.79260632 -2.58758914\n",
      "  -0.71066365  0.          0.          0.         -0.55263906 -3.09633096\n",
      "   0.46946753 -0.39692817  0.         -2.51137208 -1.44455548  2.70491864\n",
      "  -0.15786736  0.42030335  0.86732154 -2.04547091  0.64813286 -1.12900269\n",
      "   2.27393855 -0.38539601 -1.85549357  6.63676267 16.36014987  2.42015587]]\n",
      "CI: 0.742756183745583\n",
      "Consec CI: 0.6105527638190955\n",
      "MSE: 0.5349590783757189\n",
      "MSE2: 0.6067851514727777\n",
      "Subtype:  {'precisions': array([0.38297872, 0.92      ]), 'recalls': array([0.9       , 0.44230769]), 'accuracy': 0.5694444444444444, 'auroc': 0.7403846153846154}\n"
     ]
    },
    {
     "data": {
      "image/png": "[encoded data removed]",
      "text/plain": [
       "<Figure size 432x288 with 1 Axes>"
      ]
     },
     "metadata": {
      "needs_background": "light"
     },
     "output_type": "display_data"
    }
   ],
   "source": [
    "# evaluate the model with different metrics\n",
    "test_CI, test_consec_CI = get_CI_and_consec_CI(model, data_dict[\"aging_test_df\"], data_dict[\"test_df\"], \"z0\")\n",
    "test_mse = get_mse_result(model, data_dict[\"aging_test_df\"], \"z0\")\n",
    "test_mse2 = get_mse2(model, data_dict[\"aging_test_df\"], data_dict[\"test_df\"], \n",
    "                     \"DIS_DUR_BY_CONSENTDT\", [\"z0\"], \n",
    "                     data_dict[\"observed_column_names\"], \n",
    "                     fit_intercept=False) # False for Aging CS and Aging LON, True for VAE\n",
    "subtype_dict = subtyping_aging(data_dict, model, [\"z0\"], \n",
    "                               sampled=True, # True if data in data_dict is sampled\n",
    "                               pred_dir=None, \n",
    "                               fit_intercept=False) # False for Aging CS and Aging LON, True for VAE\n",
    "print(\"CI: {}\".format(test_CI))\n",
    "print(\"Consec CI: {}\".format(test_consec_CI))\n",
    "print(\"MSE: {}\".format(test_mse))\n",
    "print(\"MSE2: {}\".format(test_mse2))\n",
    "print(\"Subtype: \", subtype_dict)"
   ]
  },
  {
   "cell_type": "code",
   "execution_count": null,
   "metadata": {
    "collapsed": true
   },
   "outputs": [],
   "source": []
  }
 ],
 "metadata": {
  "kernelspec": {
   "display_name": "Python 3",
   "language": "python",
   "name": "python3"
  },
  "language_info": {
   "codemirror_mode": {
    "name": "ipython",
    "version": 3
   },
   "file_extension": ".py",
   "mimetype": "text/x-python",
   "name": "python",
   "nbconvert_exporter": "python",
   "pygments_lexer": "ipython3",
   "version": "3.5.2"
  }
 },
 "nbformat": 4,
 "nbformat_minor": 2
}
